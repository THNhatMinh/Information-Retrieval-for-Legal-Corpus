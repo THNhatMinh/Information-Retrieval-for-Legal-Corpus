{
 "cells": [
  {
   "cell_type": "code",
   "execution_count": 1,
   "metadata": {
    "_cell_guid": "b1076dfc-b9ad-4769-8c92-a6c4dae69d19",
    "_uuid": "8f2839f25d086af736a60e9eeb907d3b93b6e0e5",
    "execution": {
     "iopub.execute_input": "2025-08-06T08:48:13.443992Z",
     "iopub.status.busy": "2025-08-06T08:48:13.443711Z",
     "iopub.status.idle": "2025-08-06T08:48:13.720262Z",
     "shell.execute_reply": "2025-08-06T08:48:13.719636Z",
     "shell.execute_reply.started": "2025-08-06T08:48:13.443966Z"
    },
    "trusted": true
   },
   "outputs": [
    {
     "name": "stdout",
     "output_type": "stream",
     "text": [
      "/kaggle/input/legal-corpus/legal_corpus.json\n",
      "/kaggle/input/full-traindata-for-finetune-bge-m3-ver1/output_with_teacherscore_minedHN.jsonl\n",
      "/kaggle/input/public-test/public_test.json\n"
     ]
    }
   ],
   "source": [
    "# This Python 3 environment comes with many helpful analytics libraries installed\n",
    "# It is defined by the kaggle/python Docker image: https://github.com/kaggle/docker-python\n",
    "# For example, here's several helpful packages to load\n",
    "\n",
    "import numpy as np # linear algebra\n",
    "import pandas as pd # data processing, CSV file I/O (e.g. pd.read_csv)\n",
    "\n",
    "# Input data files are available in the read-only \"../input/\" directory\n",
    "# For example, running this (by clicking run or pressing Shift+Enter) will list all files under the input directory\n",
    "\n",
    "import os\n",
    "for dirname, _, filenames in os.walk('/kaggle/input'):\n",
    "    for filename in filenames:\n",
    "        print(os.path.join(dirname, filename))\n",
    "\n",
    "# You can write up to 20GB to the current directory (/kaggle/working/) that gets preserved as output when you create a version using \"Save & Run All\" \n",
    "# You can also write temporary files to /kaggle/temp/, but they won't be saved outside of the current session"
   ]
  },
  {
   "cell_type": "code",
   "execution_count": 2,
   "metadata": {
    "execution": {
     "iopub.execute_input": "2025-08-06T08:48:13.721754Z",
     "iopub.status.busy": "2025-08-06T08:48:13.721400Z",
     "iopub.status.idle": "2025-08-06T08:48:13.990071Z",
     "shell.execute_reply": "2025-08-06T08:48:13.988943Z",
     "shell.execute_reply.started": "2025-08-06T08:48:13.721734Z"
    },
    "trusted": true
   },
   "outputs": [
    {
     "name": "stdout",
     "output_type": "stream",
     "text": [
      "No LSB modules are available.\n",
      "Distributor ID:\tUbuntu\n",
      "Description:\tUbuntu 22.04.4 LTS\n",
      "Release:\t22.04\n",
      "Codename:\tjammy\n"
     ]
    }
   ],
   "source": [
    "!lsb_release -a"
   ]
  },
  {
   "cell_type": "code",
   "execution_count": 3,
   "metadata": {
    "execution": {
     "iopub.execute_input": "2025-08-06T08:48:13.991430Z",
     "iopub.status.busy": "2025-08-06T08:48:13.991110Z",
     "iopub.status.idle": "2025-08-06T08:48:14.157942Z",
     "shell.execute_reply": "2025-08-06T08:48:14.157210Z",
     "shell.execute_reply.started": "2025-08-06T08:48:13.991396Z"
    },
    "trusted": true
   },
   "outputs": [
    {
     "name": "stdout",
     "output_type": "stream",
     "text": [
      "Wed Aug  6 08:48:14 2025       \n",
      "+-----------------------------------------------------------------------------------------+\n",
      "| NVIDIA-SMI 560.35.03              Driver Version: 560.35.03      CUDA Version: 12.6     |\n",
      "|-----------------------------------------+------------------------+----------------------+\n",
      "| GPU  Name                 Persistence-M | Bus-Id          Disp.A | Volatile Uncorr. ECC |\n",
      "| Fan  Temp   Perf          Pwr:Usage/Cap |           Memory-Usage | GPU-Util  Compute M. |\n",
      "|                                         |                        |               MIG M. |\n",
      "|=========================================+========================+======================|\n",
      "|   0  Tesla P100-PCIE-16GB           Off |   00000000:00:04.0 Off |                    0 |\n",
      "| N/A   35C    P0             27W /  250W |       0MiB /  16384MiB |      0%      Default |\n",
      "|                                         |                        |                  N/A |\n",
      "+-----------------------------------------+------------------------+----------------------+\n",
      "                                                                                         \n",
      "+-----------------------------------------------------------------------------------------+\n",
      "| Processes:                                                                              |\n",
      "|  GPU   GI   CI        PID   Type   Process name                              GPU Memory |\n",
      "|        ID   ID                                                               Usage      |\n",
      "|=========================================================================================|\n",
      "|  No running processes found                                                             |\n",
      "+-----------------------------------------------------------------------------------------+\n"
     ]
    }
   ],
   "source": [
    "!nvidia-smi"
   ]
  },
  {
   "cell_type": "code",
   "execution_count": 4,
   "metadata": {
    "execution": {
     "iopub.execute_input": "2025-08-06T08:48:14.159391Z",
     "iopub.status.busy": "2025-08-06T08:48:14.159053Z",
     "iopub.status.idle": "2025-08-06T08:48:14.293794Z",
     "shell.execute_reply": "2025-08-06T08:48:14.293040Z",
     "shell.execute_reply.started": "2025-08-06T08:48:14.159354Z"
    },
    "trusted": true
   },
   "outputs": [
    {
     "name": "stdout",
     "output_type": "stream",
     "text": [
      "\tlibnccl.so.2 (libc6,x86-64) => /lib/x86_64-linux-gnu/libnccl.so.2\n",
      "\tlibnccl.so (libc6,x86-64) => /lib/x86_64-linux-gnu/libnccl.so\n"
     ]
    }
   ],
   "source": [
    "!ldconfig -p | grep nccl"
   ]
  },
  {
   "cell_type": "code",
   "execution_count": 5,
   "metadata": {
    "execution": {
     "iopub.execute_input": "2025-08-06T08:48:14.296040Z",
     "iopub.status.busy": "2025-08-06T08:48:14.295828Z",
     "iopub.status.idle": "2025-08-06T08:48:14.421537Z",
     "shell.execute_reply": "2025-08-06T08:48:14.420544Z",
     "shell.execute_reply.started": "2025-08-06T08:48:14.296019Z"
    },
    "trusted": true
   },
   "outputs": [
    {
     "name": "stdout",
     "output_type": "stream",
     "text": [
      "Python 3.11.13\n"
     ]
    }
   ],
   "source": [
    "!python --version"
   ]
  },
  {
   "cell_type": "code",
   "execution_count": 6,
   "metadata": {
    "execution": {
     "iopub.execute_input": "2025-08-06T08:48:14.422930Z",
     "iopub.status.busy": "2025-08-06T08:48:14.422639Z",
     "iopub.status.idle": "2025-08-06T08:48:15.377037Z",
     "shell.execute_reply": "2025-08-06T08:48:15.376294Z",
     "shell.execute_reply.started": "2025-08-06T08:48:14.422903Z"
    },
    "trusted": true
   },
   "outputs": [
    {
     "data": {
      "text/plain": [
       "{'query': 'Thưa luật sư tôi có đăng ký kết hôn trên pháp luật nhưng nay vợ chồng bỏ nhau theo phong tục tập quán như vậy tôi có được phép kết hôn với người khác không ạ?',\n",
       " 'pos': ['1. Quan hệ hôn nhân và gia đình được xác lập, thực hiện theo quy định của Luật này được tôn trọng và được pháp luật bảo vệ.\\n\\n2. Cấm các hành vi sau đây:\\t\\ta) Kết hôn giả tạo, ly hôn giả tạo;\\t\\tb) Tảo hôn, cưỡng ép kết hôn, lừa dối kết hôn, cản trở kết hôn;\\t\\tc) Người đang có vợ, có chồng mà kết hôn hoặc chung sống như vợ chồng với người khác hoặc chưa có vợ, chưa có chồng mà kết hôn hoặc chung sống như vợ chồng với người đang có chồng, có vợ;\\t\\td) Kết hôn hoặc chung sống như vợ chồng giữa những người cùng dòng máu về trực hệ; giữa những người có họ trong phạm vi ba đời; giữa cha, mẹ nuôi với con nuôi; giữa người đã từng là cha, mẹ nuôi với con nuôi, cha chồng với con dâu, mẹ vợ với con rể, cha dượng với con riêng của vợ, mẹ kế với con riêng của chồng;\\t\\tđ) Yêu sách của cải trong kết hôn;\\t\\te) Cưỡng ép ly hôn, lừa dối ly hôn, cản trở ly hôn;\\t\\tg) Thực hiện sinh con bằng kỹ thuật hỗ trợ sinh sản vì mục đích thương mại, mang thai hộ vì mục đích thương mại, lựa chọn giới tính thai nhi, sinh sản vô tính;\\t\\th) Bạo lực gia đình;\\t\\ti) Lợi dụng việc thực hiện quyền về hôn nhân và gia đình để mua bán người, bóc lột sức lao động, xâm phạm tình dục hoặc có hành vi khác nhằm mục đích trục lợi.\\n\\n3. Mọi hành vi vi phạm pháp luật về hôn nhân và gia đình phải được xử lý nghiêm minh, đúng pháp luật.Cơ quan, tổ chức, cá nhân có quyền yêu cầu Tòa án, cơ quan khác có thẩm quyền áp dụng biện pháp kịp thời ngăn chặn và xử lý người có hành vi vi phạm pháp luật về hôn nhân và gia đình.\\n\\n4. Danh dự, nhân phẩm, uy tín, bí mật đời tư và các quyền riêng tư khác của các bên được tôn trọng, bảo vệ trong quá trình giải quyết vụ việc về hôn nhân và gia đình.',\n",
       "  'Trong Luật này, các từ ngữ dưới đây được hiểu như sau:\\n\\n1. Hôn nhân là quan hệ giữa vợ và chồng sau khi kết hôn.\\n\\n2. Gia đình là tập hợp những người gắn bó với nhau do hôn nhân, quan hệ huyết thống hoặc quan hệ nuôi dưỡng, làm phát sinh các quyền và nghĩa vụ giữa họ với nhau theo quy định của Luật này.\\n\\n3. Chế độ hôn nhân và gia đình là toàn bộ những quy định của pháp luật về kết hôn, ly hôn; quyền và nghĩa vụ giữa vợ và chồng, giữa cha mẹ và con, giữa các thành viên khác trong gia đình; cấp dưỡng; xác định cha, mẹ, con; quan hệ hôn nhân và gia đình có yếu tố nước ngoài và những vấn đề khác liên quan đến hôn nhân và gia đình.\\n\\n4. Tập quán về hôn nhân và gia đình là quy tắc xử sự có nội dung rõ ràng về quyền, nghĩa vụ của các bên trong quan hệ hôn nhân và gia đình, được lặp đi, lặp lại trong một thời gian dài và được thừa nhận rộng rãi trong một vùng, miền hoặc cộng đồng.\\n\\n5. Kết hôn là việc nam và nữ xác lập quan hệ vợ chồng với nhau theo quy định của Luật này về điều kiện kết hôn và đăng ký kết hôn.\\n\\n6. Kết hôn trái pháp luật là việc nam, nữ đã đăng ký kết hôn tại cơ quan nhà nước có thẩm quyền nhưng một bên hoặc cả hai bên vi phạm điều kiện kết hôn theo quy định tại Điều 8 của Luật này.\\n\\n7. Chung sống như vợ chồng là việc nam, nữ tổ chức cuộc sống chung và coi nhau là vợ chồng.\\n\\n8. Tảo hôn là việc lấy vợ, lấy chồng khi một bên hoặc cả hai bên chưa đủ tuổi kết hôn theo quy định tại điểm a khoản 1 Điều 8 của Luật này.\\n\\n9. Cưỡng ép kết hôn, ly hôn là việc đe dọa, uy hiếp tinh thần, hành hạ, ngược đãi, yêu sách của cải hoặc hành vi khác để buộc người khác phải kết hôn hoặc ly hôn trái với ý muốn của họ.\\n\\n10. Cản trở kết hôn, ly hôn là việc đe dọa, uy hiếp tinh thần, hành hạ, ngược đãi, yêu sách của cải hoặc hành vi khác để ngăn cản việc kết hôn của người có đủ điều kiện kết hôn theo quy định của Luật này hoặc buộc người khác phải duy trì quan hệ hôn nhân trái với ý muốn của họ.\\n\\n11. Kết hôn giả tạo là việc lợi dụng kết hôn để xuất cảnh, nhập cảnh, cư trú, nhập quốc tịch Việt Nam, quốc tịch nước ngoài; hưởng chế độ ưu đãi của Nhà nước hoặc để đạt được mục đích khác mà không nhằm mục đích xây dựng gia đình.\\n\\n12. Yêu sách của cải trong kết hôn là việc đòi hỏi về vật chất một cách quá đáng và coi đó là điều kiện để kết hôn nhằm cản trở việc kết hôn tự nguyện của nam, nữ.\\n\\n13. Thời kỳ hôn nhân là khoảng thời gian tồn tại quan hệ vợ chồng, được tính từ ngày đăng ký kết hôn đến ngày chấm dứt hôn nhân.\\n\\n14. Ly hôn là việc chấm dứt quan hệ vợ chồng theo bản án, quyết định có hiệu lực pháp luật của Tòa án.\\n\\n15. Ly hôn giả tạo là việc lợi dụng ly hôn để trốn tránh nghĩa vụ tài sản, vi phạm chính sách, pháp luật về dân số hoặc để đạt được mục đích khác mà không nhằm mục đích chấm dứt hôn nhân.\\n\\n16. Thành viên gia đình bao gồm vợ, chồng; cha mẹ đẻ, cha mẹ nuôi, cha dượng, mẹ kế, cha mẹ vợ, cha mẹ chồng; con đẻ, con nuôi, con riêng của vợ hoặc chồng, con dâu, con rể; anh, chị, em cùng cha mẹ, anh, chị, em cùng cha khác mẹ, anh, chị, em cùng mẹ khác cha, anh rể, em rể, chị dâu, em dâu của người cùng cha mẹ hoặc cùng cha khác mẹ, cùng mẹ khác cha; ông bà nội, ông bà ngoại; cháu nội, cháu ngoại; cô, dì, chú, cậu, bác ruột và cháu ruột.\\n\\n17. Những người cùng dòng máu về trực hệ là những người có quan hệ huyết thống, trong đó, người này sinh ra người kia kế tiếp nhau.\\n\\n18. Những người có họ trong phạm vi ba đời là những người cùng một gốc sinh ra gồm cha mẹ là đời thứ nhất; anh, chị, em cùng cha mẹ, cùng cha khác mẹ, cùng mẹ khác cha là đời thứ hai; anh, chị, em con chú, con bác, con cô, con cậu, con dì là đời thứ ba.\\n\\n19. Người thân thích là người có quan hệ hôn nhân, nuôi dưỡng, người có cùng dòng máu về trực hệ và người có họ trong phạm vi ba đời.\\n\\n20. Nhu cầu thiết yếu là nhu cầu sinh hoạt thông thường về ăn, mặc, ở, học tập, khám bệnh, chữa bệnh và nhu cầu sinh hoạt thông thường khác không thể thiếu cho cuộc sống của mỗi người, mỗi gia đình.\\n\\n21. Sinh con bằng kỹ thuật hỗ trợ sinh sản là việc sinh con bằng kỹ thuật thụ tinh nhân tạo hoặc thụ tinh trong ống nghiệm.\\n\\n22. Mang thai hộ vì mục đích nhân đạo là việc một người phụ nữ tự nguyện, không vì mục đích thương mại giúp mang thai cho cặp vợ chồng mà người vợ không thể mang thai và sinh con ngay cả khi áp dụng kỹ thuật hỗ trợ sinh sản, bằng việc lấy noãn của người vợ và tinh trùng của người chồng để thụ tinh trong ống nghiệm, sau đó cấy vào tử cung của người phụ nữ tự nguyện mang thai để người này mang thai và sinh con.\\n\\n23. Mang thai hộ vì mục đích thương mại là việc một người phụ nữ mang thai cho người khác bằng việc áp dụng kỹ thuật hỗ trợ sinh sản để được hưởng lợi về kinh tế hoặc lợi ích khác.\\n\\n24. Cấp dưỡng là việc một người có nghĩa vụ đóng góp tiền hoặc tài sản khác để đáp ứng nhu cầu thiết yếu của người không sống chung với mình mà có quan hệ hôn nhân, huyết thống hoặc nuôi dưỡng trong trường hợp người đó là người chưa thành niên, người đã thành niên mà không có khả năng lao động và không có tài sản để tự nuôi mình hoặc người gặp khó khăn, túng thiếu theo quy định của Luật này.\\n\\n25. Quan hệ hôn nhân và gia đình có yếu tố nước ngoài là quan hệ hôn nhân và gia đình mà ít nhất một bên tham gia là người nước ngoài, người Việt Nam định cư ở nước ngoài; quan hệ hôn nhân và gia đình giữa các bên tham gia là công dân Việt Nam nhưng căn cứ để xác lập, thay đổi, chấm dứt quan hệ đó theo pháp luật nước ngoài, phát sinh tại nước ngoài hoặc tài sản liên quan đến quan hệ đó ở nước ngoài.',\n",
       "  '1. Quan hệ hôn nhân chấm dứt kể từ ngày bản án, quyết định ly hôn của Tòa án có hiệu lực pháp luật.\\n\\n2. Tòa án đã giải quyết ly hôn phải gửi bản án, quyết định ly hôn đã có hiệu lực pháp luật cho cơ quan đã thực hiện việc đăng ký kết hôn để ghi vào sổ hộ tịch; hai bên ly hôn; cá nhân, cơ quan, tổ chức khác theo quy định của Bộ luật tố tụng dân sự và các luật khác có liên quan.'],\n",
       " 'neg': ['1. Trường hợp thành viên công ty là cá nhân chết thì người thừa kế theo di chúc hoặc theo pháp luật của thành viên đó là thành viên công ty. \\n\\n2. Trường hợp thành viên là cá nhân bị Tòa án tuyên bố mất tích thì quyền và nghĩa vụ của thành viên được thực hiện thông qua người quản lý tài sản của thành viên đó theo quy định của pháp luật về dân sự.\\n\\n3. Trường hợp thành viên bị hạn chế hoặc mất năng lực hành vi dân sự, có khó khăn trong nhận thức, làm chủ hành vi thì quyền và nghĩa vụ của thành viên đó trong công ty được thực hiện thông qua người đại diện.\\n\\n4. Phần vốn góp của thành viên được công ty mua lại hoặc chuyển nhượng theo quy định tại Điều 51 và Điều 52 của Luật này trong các trường hợp sau đây:\\t\\ta) Người thừa kế không muốn trở thành thành viên;\\t\\tb) Người được tặng cho theo quy định tại khoản 6 Điều này không được Hội đồng thành viên chấp thuận làm thành viên;\\t\\tc) Thành viên công ty là tổ chức giải thể hoặc phá sản.\\n\\n5. Trường hợp phần vốn góp của thành viên công ty là cá nhân chết mà không có người thừa kế, người thừa kế từ chối nhận thừa kế hoặc bị truất quyền thừa kế thì phần vốn góp đó được giải quyết theo quy định của pháp luật về dân sự.\\n\\n6. Trường hợp thành viên tặng cho một phần hoặc toàn bộ phần vốn góp của mình tại công ty cho người khác thì người được tặng cho trở thành thành viên công ty theo quy định sau đây:\\t\\ta) Người được tặng cho thuộc đối tượng thừa kế theo pháp luật theo quy định của Bộ luật Dân sự thì người này đương nhiên là thành viên công ty; \\t\\tb) Người được tặng cho không thuộc đối tượng quy định tại điểm a khoản này thì người này chỉ trở thành thành viên công ty khi được Hội đồng thành viên chấp thuận.\\n\\n7. Trường hợp thành viên sử dụng phần vốn góp để trả nợ thì người nhận thanh toán có quyền sử dụng phần vốn góp đó theo một trong hai hình thức sau đây:\\t\\ta) Trở thành thành viên công ty nếu được Hội đồng thành viên chấp thuận;\\t\\tb) Chào bán và chuyển nhượng phần vốn góp đó theo quy định tại Điều 52 của Luật này.\\n\\n8. Trường hợp thành viên công ty là cá nhân bị tạm giam, đang chấp hành hình phạt tù, đang chấp hành biện pháp xử lý hành chính tại cơ sở cai nghiện bắt buộc, cơ sở giáo dục bắt buộc thì thành viên đó ủy quyền cho người khác thực hiện một số hoặc tất cả quyền và nghĩa vụ của mình tại công ty. \\n\\n9. Trường hợp thành viên công ty là cá nhân bị Tòa án cấm hành nghề, làm công việc nhất định hoặc thành viên công ty là pháp nhân thương mại bị Tòa án cấm kinh doanh, cấm hoạt động trong một số lĩnh vực nhất định thuộc phạm vi ngành, nghề kinh doanh của công ty thì thành viên đó không được hành nghề, làm công việc đã bị cấm tại công ty đó hoặc công ty tạm ngừng, chấm dứt kinh doanh ngành, nghề có liên quan theo quyết định của Tòa án.',\n",
       "  '1. Được thôi quốc tịch Việt Nam.\\n\\n2. Bị tước quốc tịch Việt Nam.\\n\\n3. Không đăng ký giữ quốc tịch Việt Nam theo quy định tại khoản 2 Điều 13 của Luật này.\\n\\n4. Theo quy định tại khoản 2 Điều 18 và Điều 35 của Luật này.\\n\\n5. Theo điều ước quốc tế mà Cộng hoà xã hội chủ nghĩa Việt Nam là thành viên.'],\n",
       " 'pos_scores': [-1.46484375, -0.51025390625, -2.244140625],\n",
       " 'neg_scores': [-8.7109375, -8.734375],\n",
       " 'prompt': 'Represent this sentence for searching relevant passages: '}"
      ]
     },
     "execution_count": 6,
     "metadata": {},
     "output_type": "execute_result"
    }
   ],
   "source": [
    "import json\n",
    "full_train_data = []\n",
    "prompt = \"Represent this sentence for searching relevant passages: \"\n",
    "\n",
    "with open(\"/kaggle/input/full-traindata-for-finetune-bge-m3-ver1/output_with_teacherscore_minedHN.jsonl\", \"r\", encoding = \"utf-8\") as f:\n",
    "    for line in f:\n",
    "        line = line.strip()\n",
    "        if line:\n",
    "            temp_dict = json.loads(line)\n",
    "            temp_dict['prompt'] = prompt\n",
    "            full_train_data.append(temp_dict)\n",
    "\n",
    "full_train_data[0]"
   ]
  },
  {
   "cell_type": "code",
   "execution_count": 7,
   "metadata": {
    "execution": {
     "iopub.execute_input": "2025-08-06T08:48:15.378052Z",
     "iopub.status.busy": "2025-08-06T08:48:15.377829Z",
     "iopub.status.idle": "2025-08-06T08:48:15.738686Z",
     "shell.execute_reply": "2025-08-06T08:48:15.738095Z",
     "shell.execute_reply.started": "2025-08-06T08:48:15.378030Z"
    },
    "trusted": true
   },
   "outputs": [],
   "source": [
    "import json\n",
    "\n",
    "# Save to a regular JSON file (list of dicts)\n",
    "with open(\"train_data.json\", \"w\", encoding=\"utf-8\") as f:\n",
    "    json.dump(full_train_data, f, ensure_ascii=False, indent=2)"
   ]
  },
  {
   "cell_type": "code",
   "execution_count": 8,
   "metadata": {
    "execution": {
     "iopub.execute_input": "2025-08-06T08:48:15.739602Z",
     "iopub.status.busy": "2025-08-06T08:48:15.739399Z",
     "iopub.status.idle": "2025-08-06T08:50:57.097946Z",
     "shell.execute_reply": "2025-08-06T08:50:57.097186Z",
     "shell.execute_reply.started": "2025-08-06T08:48:15.739584Z"
    },
    "trusted": true
   },
   "outputs": [
    {
     "name": "stdout",
     "output_type": "stream",
     "text": [
      "\u001b[2K     \u001b[90m━━━━━━━━━━━━━━━━━━━━━━━━━━━━━━━━━━━━━\u001b[0m \u001b[32m163.9/163.9 kB\u001b[0m \u001b[31m586.7 kB/s\u001b[0m eta \u001b[36m0:00:00\u001b[0m00:01\u001b[0m00:01\u001b[0m\n",
      "\u001b[?25h  Preparing metadata (setup.py) ... \u001b[?25l\u001b[?25hdone\n",
      "\u001b[2K     \u001b[90m━━━━━━━━━━━━━━━━━━━━━━━━━━━━━━━━━━━━━━━━\u001b[0m \u001b[32m1.6/1.6 MB\u001b[0m \u001b[31m5.8 MB/s\u001b[0m eta \u001b[36m0:00:00\u001b[0ma \u001b[36m0:00:01\u001b[0m\n",
      "\u001b[?25h  Preparing metadata (setup.py) ... \u001b[?25l\u001b[?25hdone\n",
      "\u001b[2K     \u001b[90m━━━━━━━━━━━━━━━━━━━━━━━━━━━━━━━━━━━━━━━━\u001b[0m \u001b[32m8.2/8.2 MB\u001b[0m \u001b[31m34.4 MB/s\u001b[0m eta \u001b[36m0:00:00\u001b[0m00:01\u001b[0m00:01\u001b[0m\n",
      "\u001b[?25h  Preparing metadata (setup.py) ... \u001b[?25l\u001b[?25hdone\n",
      "  Preparing metadata (setup.py) ... \u001b[?25l\u001b[?25hdone\n",
      "  Preparing metadata (setup.py) ... \u001b[?25l\u001b[?25hdone\n",
      "\u001b[2K   \u001b[90m━━━━━━━━━━━━━━━━━━━━━━━━━━━━━━━━━━━━━━━━\u001b[0m \u001b[32m363.4/363.4 MB\u001b[0m \u001b[31m4.3 MB/s\u001b[0m eta \u001b[36m0:00:00\u001b[0m:00:01\u001b[0m00:01\u001b[0m\n",
      "\u001b[2K   \u001b[90m━━━━━━━━━━━━━━━━━━━━━━━━━━━━━━━━━━━━━━━━\u001b[0m \u001b[32m13.8/13.8 MB\u001b[0m \u001b[31m33.7 MB/s\u001b[0m eta \u001b[36m0:00:00\u001b[0m00:01\u001b[0m00:01\u001b[0m\n",
      "\u001b[2K   \u001b[90m━━━━━━━━━━━━━━━━━━━━━━━━━━━━━━━━━━━━━━━━\u001b[0m \u001b[32m24.6/24.6 MB\u001b[0m \u001b[31m32.6 MB/s\u001b[0m eta \u001b[36m0:00:00\u001b[0m00:01\u001b[0m00:01\u001b[0m\n",
      "\u001b[2K   \u001b[90m━━━━━━━━━━━━━━━━━━━━━━━━━━━━━━━━━━━━━━━━\u001b[0m \u001b[32m883.7/883.7 kB\u001b[0m \u001b[31m45.5 MB/s\u001b[0m eta \u001b[36m0:00:00\u001b[0m\n",
      "\u001b[2K   \u001b[90m━━━━━━━━━━━━━━━━━━━━━━━━━━━━━━━━━━━━━━━━\u001b[0m \u001b[32m664.8/664.8 MB\u001b[0m \u001b[31m2.4 MB/s\u001b[0m eta \u001b[36m0:00:00\u001b[0m:00:01\u001b[0m00:01\u001b[0m\n",
      "\u001b[2K   \u001b[90m━━━━━━━━━━━━━━━━━━━━━━━━━━━━━━━━━━━━━━━━\u001b[0m \u001b[32m211.5/211.5 MB\u001b[0m \u001b[31m3.6 MB/s\u001b[0m eta \u001b[36m0:00:00\u001b[0m:00:01\u001b[0m00:01\u001b[0m\n",
      "\u001b[2K   \u001b[90m━━━━━━━━━━━━━━━━━━━━━━━━━━━━━━━━━━━━━━━━\u001b[0m \u001b[32m56.3/56.3 MB\u001b[0m \u001b[31m19.6 MB/s\u001b[0m eta \u001b[36m0:00:00\u001b[0m00:01\u001b[0m00:01\u001b[0m\n",
      "\u001b[2K   \u001b[90m━━━━━━━━━━━━━━━━━━━━━━━━━━━━━━━━━━━━━━━━\u001b[0m \u001b[32m127.9/127.9 MB\u001b[0m \u001b[31m10.9 MB/s\u001b[0m eta \u001b[36m0:00:00\u001b[0m00:01\u001b[0m00:01\u001b[0m\n",
      "\u001b[2K   \u001b[90m━━━━━━━━━━━━━━━━━━━━━━━━━━━━━━━━━━━━━━━━\u001b[0m \u001b[32m207.5/207.5 MB\u001b[0m \u001b[31m2.1 MB/s\u001b[0m eta \u001b[36m0:00:00\u001b[0m:00:01\u001b[0m00:01\u001b[0m\n",
      "\u001b[2K   \u001b[90m━━━━━━━━━━━━━━━━━━━━━━━━━━━━━━━━━━━━━━━━\u001b[0m \u001b[32m21.1/21.1 MB\u001b[0m \u001b[31m33.5 MB/s\u001b[0m eta \u001b[36m0:00:00\u001b[0m00:01\u001b[0m00:01\u001b[0m\n",
      "\u001b[2K   \u001b[90m━━━━━━━━━━━━━━━━━━━━━━━━━━━━━━━━━━━━━━━━\u001b[0m \u001b[32m866.1/866.1 kB\u001b[0m \u001b[31m43.3 MB/s\u001b[0m eta \u001b[36m0:00:00\u001b[0m\n",
      "\u001b[2K   \u001b[90m━━━━━━━━━━━━━━━━━━━━━━━━━━━━━━━━━━━━━━━━\u001b[0m \u001b[32m193.6/193.6 kB\u001b[0m \u001b[31m14.1 MB/s\u001b[0m eta \u001b[36m0:00:00\u001b[0m\n",
      "\u001b[2K   \u001b[90m━━━━━━━━━━━━━━━━━━━━━━━━━━━━━━━━━━━━━━━━\u001b[0m \u001b[32m135.0/135.0 kB\u001b[0m \u001b[31m8.9 MB/s\u001b[0m eta \u001b[36m0:00:00\u001b[0m\n",
      "\u001b[2K   \u001b[90m━━━━━━━━━━━━━━━━━━━━━━━━━━━━━━━━━━━━━━━━\u001b[0m \u001b[32m45.1/45.1 kB\u001b[0m \u001b[31m2.7 MB/s\u001b[0m eta \u001b[36m0:00:00\u001b[0m\n",
      "\u001b[2K   \u001b[90m━━━━━━━━━━━━━━━━━━━━━━━━━━━━━━━━━━━━━━━━\u001b[0m \u001b[32m1.3/1.3 MB\u001b[0m \u001b[31m57.3 MB/s\u001b[0m eta \u001b[36m0:00:00\u001b[0m\n",
      "\u001b[2K   \u001b[90m━━━━━━━━━━━━━━━━━━━━━━━━━━━━━━━━━━━━━━━━\u001b[0m \u001b[32m54.0/54.0 kB\u001b[0m \u001b[31m3.4 MB/s\u001b[0m eta \u001b[36m0:00:00\u001b[0m\n",
      "\u001b[?25h  Building wheel for deepspeed (setup.py) ... \u001b[?25l\u001b[?25hdone\n",
      "  Building wheel for FlagEmbedding (setup.py) ... \u001b[?25l\u001b[?25hdone\n",
      "  Building wheel for flash-attn (setup.py) ... \u001b[?25l\u001b[?25hdone\n",
      "  Building wheel for warc3-wet-clueweb09 (setup.py) ... \u001b[?25l\u001b[?25hdone\n",
      "  Building wheel for cbor (setup.py) ... \u001b[?25l\u001b[?25hdone\n",
      "\u001b[31mERROR: pip's dependency resolver does not currently take into account all the packages that are installed. This behaviour is the source of the following dependency conflicts.\n",
      "bigframes 2.8.0 requires google-cloud-bigquery-storage<3.0.0,>=2.30.0, which is not installed.\n",
      "cesium 0.12.4 requires numpy<3.0,>=2.0, but you have numpy 1.26.4 which is incompatible.\n",
      "gcsfs 2025.3.2 requires fsspec==2025.3.2, but you have fsspec 2025.3.0 which is incompatible.\n",
      "bigframes 2.8.0 requires google-cloud-bigquery[bqstorage,pandas]>=3.31.0, but you have google-cloud-bigquery 3.25.0 which is incompatible.\n",
      "bigframes 2.8.0 requires rich<14,>=12.4.4, but you have rich 14.0.0 which is incompatible.\u001b[0m\u001b[31m\n",
      "\u001b[2K   \u001b[90m━━━━━━━━━━━━━━━━━━━━━━━━━━━━━━━━━━━━━━━━\u001b[0m \u001b[32m31.3/31.3 MB\u001b[0m \u001b[31m4.7 MB/s\u001b[0m eta \u001b[36m0:00:00\u001b[0m:00:01\u001b[0m00:01\u001b[0m\n",
      "\u001b[?25h"
     ]
    }
   ],
   "source": [
    "!pip install -q -U FlagEmbedding[finetune]\n",
    "!pip install -q -U faiss-cpu"
   ]
  },
  {
   "cell_type": "code",
   "execution_count": 9,
   "metadata": {
    "execution": {
     "iopub.execute_input": "2025-08-06T08:50:57.099556Z",
     "iopub.status.busy": "2025-08-06T08:50:57.099243Z",
     "iopub.status.idle": "2025-08-06T08:51:08.079586Z",
     "shell.execute_reply": "2025-08-06T08:51:08.078854Z",
     "shell.execute_reply.started": "2025-08-06T08:50:57.099524Z"
    },
    "trusted": true
   },
   "outputs": [
    {
     "name": "stdout",
     "output_type": "stream",
     "text": [
      "Found existing installation: flash_attn 2.8.2\n",
      "Uninstalling flash_attn-2.8.2:\n",
      "  Successfully uninstalled flash_attn-2.8.2\n"
     ]
    }
   ],
   "source": [
    "!pip uninstall -y flash-attn"
   ]
  },
  {
   "cell_type": "code",
   "execution_count": 10,
   "metadata": {
    "execution": {
     "iopub.execute_input": "2025-08-06T08:51:08.081041Z",
     "iopub.status.busy": "2025-08-06T08:51:08.080766Z",
     "iopub.status.idle": "2025-08-06T08:51:08.087417Z",
     "shell.execute_reply": "2025-08-06T08:51:08.086767Z",
     "shell.execute_reply.started": "2025-08-06T08:51:08.081012Z"
    },
    "trusted": true
   },
   "outputs": [],
   "source": [
    "ds_stage0 = {\n",
    "    \"zero_optimization\": {\n",
    "      \"stage\": 0\n",
    "    },\n",
    "    \n",
    "    # \"fp16\": {\n",
    "    #   \"enabled\": True,\n",
    "    #   \"loss_scale\": 0,\n",
    "    #   \"loss_scale_window\": 1000,\n",
    "    #   \"initial_scale_power\": 12,\n",
    "    #   \"hysteresis\": 2,\n",
    "    #   \"min_loss_scale\": 1\n",
    "    # },\n",
    "        \"fp16\": {\n",
    "      \"enabled\": False,\n",
    "    },\n",
    "    \"bf16\": {\n",
    "      \"enabled\": False\n",
    "    },\n",
    "\n",
    "    \"optimizer\": {\n",
    "        \"type\": \"AdamW\",\n",
    "        \"params\": {\n",
    "            \"lr\": \"auto\",\n",
    "            \"betas\": \"auto\",\n",
    "            \"eps\": \"auto\",\n",
    "            \"weight_decay\": \"auto\"\n",
    "        }\n",
    "    },\n",
    "\n",
    "    \"scheduler\": {\n",
    "        \"type\": \"WarmupDecayLR\",\n",
    "        \"params\": {\n",
    "            \"warmup_min_lr\": \"auto\",\n",
    "            \"warmup_max_lr\": \"auto\",\n",
    "            \"warmup_num_steps\": \"auto\",\n",
    "            \"total_num_steps\": \"auto\"\n",
    "        }\n",
    "    },\n",
    "\n",
    "    \"gradient_accumulation_steps\": \"auto\",\n",
    "    \"gradient_clipping\": \"auto\",\n",
    "    \"steps_per_print\": 100,\n",
    "    \"train_batch_size\": \"auto\",\n",
    "    \"train_micro_batch_size_per_gpu\": \"auto\",\n",
    "    \"wall_clock_breakdown\": False\n",
    "}\n",
    "\n",
    "with open(\"ds_stage0.json\", \"w\") as f:\n",
    "    json.dump(ds_stage0, f)"
   ]
  },
  {
   "cell_type": "code",
   "execution_count": 15,
   "metadata": {
    "execution": {
     "iopub.execute_input": "2025-08-06T08:54:36.612664Z",
     "iopub.status.busy": "2025-08-06T08:54:36.612228Z",
     "iopub.status.idle": "2025-08-06T08:54:36.616499Z",
     "shell.execute_reply": "2025-08-06T08:54:36.615675Z",
     "shell.execute_reply.started": "2025-08-06T08:54:36.612641Z"
    },
    "trusted": true
   },
   "outputs": [],
   "source": [
    "import torch\n",
    "torch.cuda.empty_cache()"
   ]
  },
  {
   "cell_type": "code",
   "execution_count": null,
   "metadata": {
    "execution": {
     "iopub.execute_input": "2025-08-06T08:51:09.815943Z",
     "iopub.status.busy": "2025-08-06T08:51:09.815525Z",
     "iopub.status.idle": "2025-08-06T08:51:18.794055Z",
     "shell.execute_reply": "2025-08-06T08:51:18.793322Z",
     "shell.execute_reply.started": "2025-08-06T08:51:09.815923Z"
    },
    "trusted": true
   },
   "outputs": [
    {
     "name": "stderr",
     "output_type": "stream",
     "text": [
      "\u001b[34m\u001b[1mwandb\u001b[0m: \u001b[33mWARNING\u001b[0m If you're specifying your api key in code, ensure this code is not shared publicly.\n",
      "\u001b[34m\u001b[1mwandb\u001b[0m: \u001b[33mWARNING\u001b[0m Consider setting the WANDB_API_KEY environment variable, or running `wandb login` from the command line.\n",
      "\u001b[34m\u001b[1mwandb\u001b[0m: No netrc file found, creating one.\n",
      "\u001b[34m\u001b[1mwandb\u001b[0m: Appending key for api.wandb.ai to your netrc file: /root/.netrc\n",
      "\u001b[34m\u001b[1mwandb\u001b[0m: Currently logged in as: \u001b[33mquanganh2102004\u001b[0m (\u001b[33mquanganh2102004-hanoi-university-of-science-and-technology\u001b[0m) to \u001b[32mhttps://api.wandb.ai\u001b[0m. Use \u001b[1m`wandb login --relogin`\u001b[0m to force relogin\n"
     ]
    },
    {
     "data": {
      "text/plain": [
       "True"
      ]
     },
     "execution_count": 12,
     "metadata": {},
     "output_type": "execute_result"
    }
   ],
   "source": [
    "import wandb\n",
    "wandb.login(key=\"yourapikey\")"
   ]
  },
  {
   "cell_type": "code",
   "execution_count": 13,
   "metadata": {
    "execution": {
     "iopub.execute_input": "2025-08-06T08:51:18.795166Z",
     "iopub.status.busy": "2025-08-06T08:51:18.794796Z",
     "iopub.status.idle": "2025-08-06T08:51:18.978589Z",
     "shell.execute_reply": "2025-08-06T08:51:18.977625Z",
     "shell.execute_reply.started": "2025-08-06T08:51:18.795148Z"
    },
    "trusted": true
   },
   "outputs": [
    {
     "name": "stdout",
     "output_type": "stream",
     "text": [
      "Wed Aug  6 08:51:18 2025       \n",
      "+-----------------------------------------------------------------------------------------+\n",
      "| NVIDIA-SMI 560.35.03              Driver Version: 560.35.03      CUDA Version: 12.6     |\n",
      "|-----------------------------------------+------------------------+----------------------+\n",
      "| GPU  Name                 Persistence-M | Bus-Id          Disp.A | Volatile Uncorr. ECC |\n",
      "| Fan  Temp   Perf          Pwr:Usage/Cap |           Memory-Usage | GPU-Util  Compute M. |\n",
      "|                                         |                        |               MIG M. |\n",
      "|=========================================+========================+======================|\n",
      "|   0  Tesla P100-PCIE-16GB           Off |   00000000:00:04.0 Off |                    0 |\n",
      "| N/A   35C    P0             28W /  250W |       0MiB /  16384MiB |      0%      Default |\n",
      "|                                         |                        |                  N/A |\n",
      "+-----------------------------------------+------------------------+----------------------+\n",
      "                                                                                         \n",
      "+-----------------------------------------------------------------------------------------+\n",
      "| Processes:                                                                              |\n",
      "|  GPU   GI   CI        PID   Type   Process name                              GPU Memory |\n",
      "|        ID   ID                                                               Usage      |\n",
      "|=========================================================================================|\n",
      "|  No running processes found                                                             |\n",
      "+-----------------------------------------------------------------------------------------+\n"
     ]
    }
   ],
   "source": [
    "!nvidia-smi"
   ]
  },
  {
   "cell_type": "markdown",
   "metadata": {},
   "source": [
    "Note:\n",
    "    --passage_max_len 8192 \\ #128 ok\n",
    "    --save_steps 2000 \\ #tang len neu dung nhieu epoch hon\\ #--negatives_cross_device \\ de xuong dong"
   ]
  },
  {
   "cell_type": "code",
   "execution_count": null,
   "metadata": {
    "execution": {
     "execution_failed": "2025-08-06T09:59:38.393Z",
     "iopub.execute_input": "2025-08-06T08:54:43.186520Z",
     "iopub.status.busy": "2025-08-06T08:54:43.186146Z"
    },
    "trusted": true
   },
   "outputs": [],
   "source": [
    "%%bash\n",
    "torchrun --nproc_per_node 1 \\\n",
    "\t-m FlagEmbedding.finetune.embedder.encoder_only.m3 \\\n",
    "\t--model_name_or_path BAAI/bge-m3 \\\n",
    "    --cache_dir ./cache/model \\\n",
    "    --train_data /kaggle/working/train_data.json \\\n",
    "    --cache_path ./cache/data \\\n",
    "    --train_group_size 2 \\\n",
    "    --query_max_len 256 \\\n",
    "    --passage_max_len 512 \\\n",
    "    --pad_to_multiple_of 8 \\\n",
    "    --knowledge_distillation True \\\n",
    "    --same_dataset_within_batch True \\\n",
    "    --small_threshold 0 \\\n",
    "    --drop_threshold 0 \\\n",
    "    --output_dir ./test_encoder_only_m3_bge-m3_sd \\\n",
    "    --overwrite_output_dir \\\n",
    "    --learning_rate 1e-5 \\\n",
    "    --fp16 False\\\n",
    "    --num_train_epochs 1 \\\n",
    "    --per_device_train_batch_size 2 \\\n",
    "    --dataloader_drop_last True \\\n",
    "    --warmup_ratio 0.1 \\\n",
    "    --gradient_checkpointing \\\n",
    "    --deepspeed /kaggle/working/ds_stage0.json \\\n",
    "    --logging_steps 1 \\\n",
    "    --save_steps 5000 \\\n",
    "    --temperature 0.02 \\\n",
    "    --sentence_pooling_method cls \\\n",
    "    --normalize_embeddings True \\\n",
    "    --kd_loss_type m3_kd_loss \\\n",
    "    --unified_finetuning True \\\n",
    "    --use_self_distill True \\\n",
    "    --fix_encoder False \\\n",
    "    --self_distill_start_step 0"
   ]
  },
  {
   "cell_type": "code",
   "execution_count": null,
   "metadata": {
    "execution": {
     "iopub.status.busy": "2025-08-06T08:53:35.331968Z",
     "iopub.status.idle": "2025-08-06T08:53:35.332316Z",
     "shell.execute_reply": "2025-08-06T08:53:35.332136Z",
     "shell.execute_reply.started": "2025-08-06T08:53:35.332121Z"
    },
    "trusted": true
   },
   "outputs": [],
   "source": [
    "# %%bash\n",
    "# torchrun --nproc_per_node 2 \\\n",
    "# \t-m FlagEmbedding.finetune.embedder.encoder_only.base \\\n",
    "# \t--model_name_or_path \"BAAI/bge-m3\" \\\n",
    "#     --cache_dir ./cache/model \\\n",
    "#     --train_data /kaggle/working/train_data.json \\\n",
    "#     --cache_path ./cache/data \\\n",
    "#     --train_group_size 4 \\\n",
    "#     --query_max_len 256 \\\n",
    "#     --passage_max_len 8192 \\\n",
    "#     --pad_to_multiple_of 8 \\\n",
    "#     --query_instruction_for_retrieval 'Represent this sentence for searching relevant passages: ' \\\n",
    "#     --query_instruction_format '{}{}' \\\n",
    "#     --knowledge_distillation True \\\n",
    "# \t--output_dir ./test_encoder_only_base_bge-m3 \\\n",
    "#     --overwrite_output_dir \\\n",
    "#     --learning_rate 1e-5 \\\n",
    "#     --fp16 \\\n",
    "#     --num_train_epochs 1 \\\n",
    "#     --per_device_train_batch_size 1 \\\n",
    "#     --dataloader_drop_last True \\\n",
    "#     --warmup_ratio 0.1 \\\n",
    "#     --gradient_checkpointing \\\n",
    "#     --deepspeed /kaggle/working/ds_stage0.json \\\n",
    "#     --logging_steps 1 \\\n",
    "#     --save_steps 2000 \\\n",
    "#     --temperature 0.02 \\\n",
    "#     --sentence_pooling_method cls \\\n",
    "#     --normalize_embeddings True \\\n",
    "#     --kd_loss_type kl_div \\"
   ]
  },
  {
   "cell_type": "code",
   "execution_count": null,
   "metadata": {
    "execution": {
     "iopub.status.busy": "2025-08-06T08:53:35.333582Z",
     "iopub.status.idle": "2025-08-06T08:53:35.333877Z",
     "shell.execute_reply": "2025-08-06T08:53:35.333729Z",
     "shell.execute_reply.started": "2025-08-06T08:53:35.333718Z"
    },
    "trusted": true
   },
   "outputs": [],
   "source": [
    "%%bash\n",
    "du -h --max-depth=1 /kaggle/working/test_encoder_only_m3_bge-m3_sd\n"
   ]
  },
  {
   "cell_type": "code",
   "execution_count": null,
   "metadata": {
    "execution": {
     "iopub.status.busy": "2025-08-06T08:53:35.335340Z",
     "iopub.status.idle": "2025-08-06T08:53:35.335597Z",
     "shell.execute_reply": "2025-08-06T08:53:35.335502Z",
     "shell.execute_reply.started": "2025-08-06T08:53:35.335492Z"
    },
    "trusted": true
   },
   "outputs": [],
   "source": [
    "from FlagEmbedding import FlagModel"
   ]
  },
  {
   "cell_type": "code",
   "execution_count": null,
   "metadata": {
    "execution": {
     "iopub.status.busy": "2025-08-06T08:53:35.336370Z",
     "iopub.status.idle": "2025-08-06T08:53:35.336679Z",
     "shell.execute_reply": "2025-08-06T08:53:35.336532Z",
     "shell.execute_reply.started": "2025-08-06T08:53:35.336518Z"
    },
    "trusted": true
   },
   "outputs": [],
   "source": [
    "finetuned_path_bge_m3 = \"/kaggle/working/test_encoder_only_m3_bge-m3_sd/checkpoint-1095\"\n",
    "\n",
    "ft_model_bge_m3 = FlagModel(\n",
    "    finetuned_path_bge_m3, \n",
    "    query_instruction_for_retrieval=\"Represent this sentence for searching relevant passages:\",\n",
    "    devices=[0],\n",
    "    use_fp16=False\n",
    ")"
   ]
  },
  {
   "cell_type": "code",
   "execution_count": null,
   "metadata": {
    "trusted": true
   },
   "outputs": [],
   "source": [
    "finetuned_path_vnese_encoder = \"/kaggle/input/vietnamese-bi-encoder-finetuned-v1/Checkpoint800\"\n",
    "\n",
    "ft_model_vnese_encoder = SentenceTransformer(\n",
    "    model_name_or_path = finetuned_path_vnese_encoder,\n",
    "    device = \"cuda\"\n",
    ")"
   ]
  },
  {
   "cell_type": "code",
   "execution_count": null,
   "metadata": {
    "trusted": true
   },
   "outputs": [],
   "source": []
  },
  {
   "cell_type": "code",
   "execution_count": null,
   "metadata": {
    "trusted": true
   },
   "outputs": [],
   "source": []
  },
  {
   "cell_type": "code",
   "execution_count": null,
   "metadata": {
    "trusted": true
   },
   "outputs": [],
   "source": [
    "if "
   ]
  },
  {
   "cell_type": "code",
   "execution_count": null,
   "metadata": {
    "execution": {
     "iopub.status.busy": "2025-08-06T08:53:35.337799Z",
     "iopub.status.idle": "2025-08-06T08:53:35.338013Z",
     "shell.execute_reply": "2025-08-06T08:53:35.337924Z",
     "shell.execute_reply.started": "2025-08-06T08:53:35.337915Z"
    },
    "trusted": true
   },
   "outputs": [],
   "source": [
    "i = 29\n",
    "\n",
    "print(full_train_data[i]['pos_scores'])\n",
    "print(full_train_data[i]['neg_scores'])\n",
    "\n",
    "query_embedding = ft_model.encode(full_train_data[i]['query'])\n",
    "positive_embedding = ft_model.encode(full_train_data[i]['pos'])\n",
    "negative_embedding = ft_model.encode(full_train_data[i]['neg'])\n",
    "\n",
    "similarity_1 = query_embedding @ positive_embedding.T\n",
    "print(similarity_1)\n",
    "\n",
    "similarity_2 = query_embedding @ negative_embedding.T\n",
    "print(similarity_2)"
   ]
  },
  {
   "cell_type": "code",
   "execution_count": null,
   "metadata": {
    "execution": {
     "iopub.status.busy": "2025-08-06T08:53:35.338980Z",
     "iopub.status.idle": "2025-08-06T08:53:35.339323Z",
     "shell.execute_reply": "2025-08-06T08:53:35.339151Z",
     "shell.execute_reply.started": "2025-08-06T08:53:35.339137Z"
    },
    "trusted": true
   },
   "outputs": [],
   "source": [
    "import json\n",
    "with open(\"/kaggle/input/legal-corpus/legal_corpus.json\", \"r\", encoding=\"utf-8\") as f:\n",
    "    data = json.load(f)\n",
    "\n",
    "corpus = []\n",
    "article_to_aid = {}\n",
    "for law in data:\n",
    "    for child_law in law['content']:\n",
    "        article_to_aid[child_law['content_Article']] = child_law['aid']\n",
    "        corpus.append(child_law['content_Article'])\n"
   ]
  },
  {
   "cell_type": "markdown",
   "metadata": {},
   "source": [
    "Create index for fast searching\n"
   ]
  },
  {
   "cell_type": "code",
   "execution_count": null,
   "metadata": {
    "execution": {
     "iopub.status.busy": "2025-08-06T08:53:35.340829Z",
     "iopub.status.idle": "2025-08-06T08:53:35.341148Z",
     "shell.execute_reply": "2025-08-06T08:53:35.341006Z",
     "shell.execute_reply.started": "2025-08-06T08:53:35.340987Z"
    },
    "trusted": true
   },
   "outputs": [],
   "source": [
    "submit_list = []\n",
    "with open(\"/kaggle/input/public-test/public_test.json\",\"r\",encoding = \"utf-8\") as f:\n",
    "    file = json.load(f)\n",
    "questions = []\n",
    "idx_to_qid = {}\n",
    "for idx,q in enumerate(file):\n",
    "    questions.append(q['question'])\n",
    "    idx_to_qid[idx] = q['id']"
   ]
  },
  {
   "cell_type": "code",
   "execution_count": null,
   "metadata": {
    "execution": {
     "iopub.status.busy": "2025-08-06T08:53:35.342042Z",
     "iopub.status.idle": "2025-08-06T08:53:35.342381Z",
     "shell.execute_reply": "2025-08-06T08:53:35.342202Z",
     "shell.execute_reply.started": "2025-08-06T08:53:35.342188Z"
    },
    "trusted": true
   },
   "outputs": [],
   "source": [
    "corpus_embeddings = ft_model.encode(corpus)"
   ]
  },
  {
   "cell_type": "code",
   "execution_count": null,
   "metadata": {
    "execution": {
     "iopub.status.busy": "2025-08-06T08:53:35.343474Z",
     "iopub.status.idle": "2025-08-06T08:53:35.343751Z",
     "shell.execute_reply": "2025-08-06T08:53:35.343610Z",
     "shell.execute_reply.started": "2025-08-06T08:53:35.343595Z"
    },
    "trusted": true
   },
   "outputs": [],
   "source": [
    "import numpy as np\n",
    "\n",
    "corpus_embeddings = corpus_embeddings.astype(np.float32)"
   ]
  },
  {
   "cell_type": "code",
   "execution_count": null,
   "metadata": {
    "execution": {
     "iopub.status.busy": "2025-08-06T08:53:35.345145Z",
     "iopub.status.idle": "2025-08-06T08:53:35.345403Z",
     "shell.execute_reply": "2025-08-06T08:53:35.345304Z",
     "shell.execute_reply.started": "2025-08-06T08:53:35.345294Z"
    },
    "trusted": true
   },
   "outputs": [],
   "source": [
    "import faiss\n",
    "\n",
    "# get the length of our embedding vectors\n",
    "dim = corpus_embeddings.shape[-1]\n",
    "\n",
    "# create the faiss index and store the corpus embeddings into the vector space\n",
    "index = faiss.index_factory(dim, 'Flat', faiss.METRIC_INNER_PRODUCT)"
   ]
  },
  {
   "cell_type": "code",
   "execution_count": null,
   "metadata": {
    "execution": {
     "iopub.status.busy": "2025-08-06T08:53:35.346568Z",
     "iopub.status.idle": "2025-08-06T08:53:35.346846Z",
     "shell.execute_reply": "2025-08-06T08:53:35.346720Z",
     "shell.execute_reply.started": "2025-08-06T08:53:35.346707Z"
    },
    "trusted": true
   },
   "outputs": [],
   "source": [
    "index.train(corpus_embeddings)"
   ]
  },
  {
   "cell_type": "code",
   "execution_count": null,
   "metadata": {
    "execution": {
     "iopub.status.busy": "2025-08-06T08:53:35.348891Z",
     "iopub.status.idle": "2025-08-06T08:53:35.349569Z",
     "shell.execute_reply": "2025-08-06T08:53:35.349413Z",
     "shell.execute_reply.started": "2025-08-06T08:53:35.349400Z"
    },
    "trusted": true
   },
   "outputs": [],
   "source": [
    "# check if the index is trained\n",
    "print(index.is_trained)  "
   ]
  },
  {
   "cell_type": "code",
   "execution_count": null,
   "metadata": {
    "execution": {
     "iopub.status.busy": "2025-08-06T08:53:35.350396Z",
     "iopub.status.idle": "2025-08-06T08:53:35.350665Z",
     "shell.execute_reply": "2025-08-06T08:53:35.350508Z",
     "shell.execute_reply.started": "2025-08-06T08:53:35.350498Z"
    },
    "trusted": true
   },
   "outputs": [],
   "source": [
    "index.add(corpus_embeddings)\n",
    "\n",
    "print(f\"total number of vectors: {index.ntotal}\")"
   ]
  },
  {
   "cell_type": "code",
   "execution_count": null,
   "metadata": {
    "execution": {
     "iopub.status.busy": "2025-08-06T08:53:35.351549Z",
     "iopub.status.idle": "2025-08-06T08:53:35.351898Z",
     "shell.execute_reply": "2025-08-06T08:53:35.351768Z",
     "shell.execute_reply.started": "2025-08-06T08:53:35.351750Z"
    },
    "trusted": true
   },
   "outputs": [],
   "source": [
    "len(questions)"
   ]
  },
  {
   "cell_type": "code",
   "execution_count": null,
   "metadata": {
    "execution": {
     "iopub.status.busy": "2025-08-06T08:53:35.352978Z",
     "iopub.status.idle": "2025-08-06T08:53:35.353288Z",
     "shell.execute_reply": "2025-08-06T08:53:35.353124Z",
     "shell.execute_reply.started": "2025-08-06T08:53:35.353109Z"
    },
    "trusted": true
   },
   "outputs": [],
   "source": [
    "query_embeddings = ft_model.encode_queries(questions)"
   ]
  },
  {
   "cell_type": "code",
   "execution_count": null,
   "metadata": {
    "execution": {
     "iopub.status.busy": "2025-08-06T08:53:35.354382Z",
     "iopub.status.idle": "2025-08-06T08:53:35.354610Z",
     "shell.execute_reply": "2025-08-06T08:53:35.354521Z",
     "shell.execute_reply.started": "2025-08-06T08:53:35.354512Z"
    },
    "trusted": true
   },
   "outputs": [],
   "source": [
    "for i in range(1,5):\n",
    "    dists, ids = index.search(query_embeddings, k=i)\n",
    "    submit = []\n",
    "    for idx, each_ids in enumerate(ids):\n",
    "        each_ids = [int(each_id) for each_id in each_ids]\n",
    "        submit.append({\"qid\": idx_to_qid[idx], \"relevant_laws\": list(each_ids)})\n",
    "        \n",
    "    with open(f\"answer_top{i}.json\", \"w\", encoding=\"utf-8\") as f:\n",
    "        json.dump(submit, f, ensure_ascii=False)"
   ]
  }
 ],
 "metadata": {
  "kaggle": {
   "accelerator": "gpu",
   "dataSources": [
    {
     "datasetId": 7893366,
     "sourceId": 12506309,
     "sourceType": "datasetVersion"
    },
    {
     "datasetId": 7931256,
     "sourceId": 12560475,
     "sourceType": "datasetVersion"
    },
    {
     "datasetId": 7931264,
     "sourceId": 12560483,
     "sourceType": "datasetVersion"
    },
    {
     "datasetId": 8019153,
     "sourceId": 12689559,
     "sourceType": "datasetVersion"
    }
   ],
   "dockerImageVersionId": 31089,
   "isGpuEnabled": true,
   "isInternetEnabled": true,
   "language": "python",
   "sourceType": "notebook"
  },
  "kernelspec": {
   "display_name": "Python 3",
   "language": "python",
   "name": "python3"
  },
  "language_info": {
   "codemirror_mode": {
    "name": "ipython",
    "version": 3
   },
   "file_extension": ".py",
   "mimetype": "text/x-python",
   "name": "python",
   "nbconvert_exporter": "python",
   "pygments_lexer": "ipython3",
   "version": "3.11.13"
  }
 },
 "nbformat": 4,
 "nbformat_minor": 4
}

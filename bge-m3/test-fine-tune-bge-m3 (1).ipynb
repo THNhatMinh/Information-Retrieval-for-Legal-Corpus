{
 "cells": [
  {
   "cell_type": "code",
   "execution_count": null,
   "metadata": {
    "_cell_guid": "b1076dfc-b9ad-4769-8c92-a6c4dae69d19",
    "_uuid": "8f2839f25d086af736a60e9eeb907d3b93b6e0e5",
    "execution": {
     "iopub.execute_input": "2025-08-06T08:48:13.443992Z",
     "iopub.status.busy": "2025-08-06T08:48:13.443711Z",
     "iopub.status.idle": "2025-08-06T08:48:13.720262Z",
     "shell.execute_reply": "2025-08-06T08:48:13.719636Z",
     "shell.execute_reply.started": "2025-08-06T08:48:13.443966Z"
    },
    "trusted": true
   },
   "outputs": [],
   "source": [
    "# This Python 3 environment comes with many helpful analytics libraries installed\n",
    "# It is defined by the kaggle/python Docker image: https://github.com/kaggle/docker-python\n",
    "# For example, here's several helpful packages to load\n",
    "\n",
    "import numpy as np # linear algebra\n",
    "import pandas as pd # data processing, CSV file I/O (e.g. pd.read_csv)\n",
    "\n",
    "# Input data files are available in the read-only \"../input/\" directory\n",
    "# For example, running this (by clicking run or pressing Shift+Enter) will list all files under the input directory\n",
    "\n",
    "import os\n",
    "for dirname, _, filenames in os.walk('/kaggle/input'):\n",
    "    for filename in filenames:\n",
    "        print(os.path.join(dirname, filename))\n",
    "\n",
    "# You can write up to 20GB to the current directory (/kaggle/working/) that gets preserved as output when you create a version using \"Save & Run All\" \n",
    "# You can also write temporary files to /kaggle/temp/, but they won't be saved outside of the current session"
   ]
  },
  {
   "cell_type": "code",
   "execution_count": 2,
   "metadata": {
    "execution": {
     "iopub.execute_input": "2025-08-06T08:48:13.721754Z",
     "iopub.status.busy": "2025-08-06T08:48:13.721400Z",
     "iopub.status.idle": "2025-08-06T08:48:13.990071Z",
     "shell.execute_reply": "2025-08-06T08:48:13.988943Z",
     "shell.execute_reply.started": "2025-08-06T08:48:13.721734Z"
    },
    "trusted": true
   },
   "outputs": [
    {
     "name": "stdout",
     "output_type": "stream",
     "text": [
      "No LSB modules are available.\n",
      "Distributor ID:\tUbuntu\n",
      "Description:\tUbuntu 22.04.4 LTS\n",
      "Release:\t22.04\n",
      "Codename:\tjammy\n"
     ]
    }
   ],
   "source": [
    "!lsb_release -a"
   ]
  },
  {
   "cell_type": "code",
   "execution_count": null,
   "metadata": {
    "execution": {
     "iopub.execute_input": "2025-08-06T08:48:13.991430Z",
     "iopub.status.busy": "2025-08-06T08:48:13.991110Z",
     "iopub.status.idle": "2025-08-06T08:48:14.157942Z",
     "shell.execute_reply": "2025-08-06T08:48:14.157210Z",
     "shell.execute_reply.started": "2025-08-06T08:48:13.991396Z"
    },
    "trusted": true
   },
   "outputs": [],
   "source": [
    "!nvidia-smi"
   ]
  },
  {
   "cell_type": "code",
   "execution_count": 4,
   "metadata": {
    "execution": {
     "iopub.execute_input": "2025-08-06T08:48:14.159391Z",
     "iopub.status.busy": "2025-08-06T08:48:14.159053Z",
     "iopub.status.idle": "2025-08-06T08:48:14.293794Z",
     "shell.execute_reply": "2025-08-06T08:48:14.293040Z",
     "shell.execute_reply.started": "2025-08-06T08:48:14.159354Z"
    },
    "trusted": true
   },
   "outputs": [
    {
     "name": "stdout",
     "output_type": "stream",
     "text": [
      "\tlibnccl.so.2 (libc6,x86-64) => /lib/x86_64-linux-gnu/libnccl.so.2\n",
      "\tlibnccl.so (libc6,x86-64) => /lib/x86_64-linux-gnu/libnccl.so\n"
     ]
    }
   ],
   "source": [
    "!ldconfig -p | grep nccl"
   ]
  },
  {
   "cell_type": "code",
   "execution_count": 5,
   "metadata": {
    "execution": {
     "iopub.execute_input": "2025-08-06T08:48:14.296040Z",
     "iopub.status.busy": "2025-08-06T08:48:14.295828Z",
     "iopub.status.idle": "2025-08-06T08:48:14.421537Z",
     "shell.execute_reply": "2025-08-06T08:48:14.420544Z",
     "shell.execute_reply.started": "2025-08-06T08:48:14.296019Z"
    },
    "trusted": true
   },
   "outputs": [
    {
     "name": "stdout",
     "output_type": "stream",
     "text": [
      "Python 3.11.13\n"
     ]
    }
   ],
   "source": [
    "!python --version"
   ]
  },
  {
   "cell_type": "code",
   "execution_count": null,
   "metadata": {
    "execution": {
     "iopub.execute_input": "2025-08-06T08:48:14.422930Z",
     "iopub.status.busy": "2025-08-06T08:48:14.422639Z",
     "iopub.status.idle": "2025-08-06T08:48:15.377037Z",
     "shell.execute_reply": "2025-08-06T08:48:15.376294Z",
     "shell.execute_reply.started": "2025-08-06T08:48:14.422903Z"
    },
    "trusted": true
   },
   "outputs": [],
   "source": [
    "import json\n",
    "full_train_data = []\n",
    "prompt = \"Represent this sentence for searching relevant passages: \"\n",
    "\n",
    "with open(\"/kaggle/input/full-traindata-for-finetune-bge-m3-ver1/output_with_teacherscore_minedHN.jsonl\", \"r\", encoding = \"utf-8\") as f:\n",
    "    for line in f:\n",
    "        line = line.strip()\n",
    "        if line:\n",
    "            temp_dict = json.loads(line)\n",
    "            temp_dict['prompt'] = prompt\n",
    "            full_train_data.append(temp_dict)\n",
    "\n",
    "full_train_data[0]"
   ]
  },
  {
   "cell_type": "code",
   "execution_count": 7,
   "metadata": {
    "execution": {
     "iopub.execute_input": "2025-08-06T08:48:15.378052Z",
     "iopub.status.busy": "2025-08-06T08:48:15.377829Z",
     "iopub.status.idle": "2025-08-06T08:48:15.738686Z",
     "shell.execute_reply": "2025-08-06T08:48:15.738095Z",
     "shell.execute_reply.started": "2025-08-06T08:48:15.378030Z"
    },
    "trusted": true
   },
   "outputs": [],
   "source": [
    "import json\n",
    "\n",
    "# Save to a regular JSON file (list of dicts)\n",
    "with open(\"train_data.json\", \"w\", encoding=\"utf-8\") as f:\n",
    "    json.dump(full_train_data, f, ensure_ascii=False, indent=2)"
   ]
  },
  {
   "cell_type": "code",
   "execution_count": null,
   "metadata": {
    "execution": {
     "iopub.execute_input": "2025-08-06T08:48:15.739602Z",
     "iopub.status.busy": "2025-08-06T08:48:15.739399Z",
     "iopub.status.idle": "2025-08-06T08:50:57.097946Z",
     "shell.execute_reply": "2025-08-06T08:50:57.097186Z",
     "shell.execute_reply.started": "2025-08-06T08:48:15.739584Z"
    },
    "trusted": true
   },
   "outputs": [],
   "source": [
    "!pip install -q -U FlagEmbedding[finetune]\n",
    "!pip install -q -U faiss-cpu"
   ]
  },
  {
   "cell_type": "code",
   "execution_count": 9,
   "metadata": {
    "execution": {
     "iopub.execute_input": "2025-08-06T08:50:57.099556Z",
     "iopub.status.busy": "2025-08-06T08:50:57.099243Z",
     "iopub.status.idle": "2025-08-06T08:51:08.079586Z",
     "shell.execute_reply": "2025-08-06T08:51:08.078854Z",
     "shell.execute_reply.started": "2025-08-06T08:50:57.099524Z"
    },
    "trusted": true
   },
   "outputs": [
    {
     "name": "stdout",
     "output_type": "stream",
     "text": [
      "Found existing installation: flash_attn 2.8.2\n",
      "Uninstalling flash_attn-2.8.2:\n",
      "  Successfully uninstalled flash_attn-2.8.2\n"
     ]
    }
   ],
   "source": [
    "!pip uninstall -y flash-attn"
   ]
  },
  {
   "cell_type": "code",
   "execution_count": 10,
   "metadata": {
    "execution": {
     "iopub.execute_input": "2025-08-06T08:51:08.081041Z",
     "iopub.status.busy": "2025-08-06T08:51:08.080766Z",
     "iopub.status.idle": "2025-08-06T08:51:08.087417Z",
     "shell.execute_reply": "2025-08-06T08:51:08.086767Z",
     "shell.execute_reply.started": "2025-08-06T08:51:08.081012Z"
    },
    "trusted": true
   },
   "outputs": [],
   "source": [
    "ds_stage0 = {\n",
    "    \"zero_optimization\": {\n",
    "      \"stage\": 0\n",
    "    },\n",
    "    \n",
    "    # \"fp16\": {\n",
    "    #   \"enabled\": True,\n",
    "    #   \"loss_scale\": 0,\n",
    "    #   \"loss_scale_window\": 1000,\n",
    "    #   \"initial_scale_power\": 12,\n",
    "    #   \"hysteresis\": 2,\n",
    "    #   \"min_loss_scale\": 1\n",
    "    # },\n",
    "        \"fp16\": {\n",
    "      \"enabled\": False,\n",
    "    },\n",
    "    \"bf16\": {\n",
    "      \"enabled\": False\n",
    "    },\n",
    "\n",
    "    \"optimizer\": {\n",
    "        \"type\": \"AdamW\",\n",
    "        \"params\": {\n",
    "            \"lr\": \"auto\",\n",
    "            \"betas\": \"auto\",\n",
    "            \"eps\": \"auto\",\n",
    "            \"weight_decay\": \"auto\"\n",
    "        }\n",
    "    },\n",
    "\n",
    "    \"scheduler\": {\n",
    "        \"type\": \"WarmupDecayLR\",\n",
    "        \"params\": {\n",
    "            \"warmup_min_lr\": \"auto\",\n",
    "            \"warmup_max_lr\": \"auto\",\n",
    "            \"warmup_num_steps\": \"auto\",\n",
    "            \"total_num_steps\": \"auto\"\n",
    "        }\n",
    "    },\n",
    "\n",
    "    \"gradient_accumulation_steps\": \"auto\",\n",
    "    \"gradient_clipping\": \"auto\",\n",
    "    \"steps_per_print\": 100,\n",
    "    \"train_batch_size\": \"auto\",\n",
    "    \"train_micro_batch_size_per_gpu\": \"auto\",\n",
    "    \"wall_clock_breakdown\": False\n",
    "}\n",
    "\n",
    "with open(\"ds_stage0.json\", \"w\") as f:\n",
    "    json.dump(ds_stage0, f)"
   ]
  },
  {
   "cell_type": "code",
   "execution_count": 15,
   "metadata": {
    "execution": {
     "iopub.execute_input": "2025-08-06T08:54:36.612664Z",
     "iopub.status.busy": "2025-08-06T08:54:36.612228Z",
     "iopub.status.idle": "2025-08-06T08:54:36.616499Z",
     "shell.execute_reply": "2025-08-06T08:54:36.615675Z",
     "shell.execute_reply.started": "2025-08-06T08:54:36.612641Z"
    },
    "trusted": true
   },
   "outputs": [],
   "source": [
    "import torch\n",
    "torch.cuda.empty_cache()"
   ]
  },
  {
   "cell_type": "code",
   "execution_count": null,
   "metadata": {
    "execution": {
     "iopub.execute_input": "2025-08-06T08:51:09.815943Z",
     "iopub.status.busy": "2025-08-06T08:51:09.815525Z",
     "iopub.status.idle": "2025-08-06T08:51:18.794055Z",
     "shell.execute_reply": "2025-08-06T08:51:18.793322Z",
     "shell.execute_reply.started": "2025-08-06T08:51:09.815923Z"
    },
    "trusted": true
   },
   "outputs": [],
   "source": [
    "import wandb\n",
    "wandb.login(key=\"yourapikey\")"
   ]
  },
  {
   "cell_type": "code",
   "execution_count": null,
   "metadata": {
    "execution": {
     "iopub.execute_input": "2025-08-06T08:51:18.795166Z",
     "iopub.status.busy": "2025-08-06T08:51:18.794796Z",
     "iopub.status.idle": "2025-08-06T08:51:18.978589Z",
     "shell.execute_reply": "2025-08-06T08:51:18.977625Z",
     "shell.execute_reply.started": "2025-08-06T08:51:18.795148Z"
    },
    "trusted": true
   },
   "outputs": [],
   "source": [
    "!nvidia-smi"
   ]
  },
  {
   "cell_type": "markdown",
   "metadata": {},
   "source": [
    "Note:\n",
    "    --passage_max_len 8192 \\ #128 ok\n",
    "    --save_steps 2000 \\ #tang len neu dung nhieu epoch hon\\ #--negatives_cross_device \\ de xuong dong"
   ]
  },
  {
   "cell_type": "code",
   "execution_count": null,
   "metadata": {
    "execution": {
     "execution_failed": "2025-08-06T09:59:38.393Z",
     "iopub.execute_input": "2025-08-06T08:54:43.186520Z",
     "iopub.status.busy": "2025-08-06T08:54:43.186146Z"
    },
    "trusted": true
   },
   "outputs": [],
   "source": [
    "%%bash\n",
    "torchrun --nproc_per_node 1 \\\n",
    "\t-m FlagEmbedding.finetune.embedder.encoder_only.m3 \\\n",
    "\t--model_name_or_path BAAI/bge-m3 \\\n",
    "    --cache_dir ./cache/model \\\n",
    "    --train_data /kaggle/working/train_data.json \\\n",
    "    --cache_path ./cache/data \\\n",
    "    --train_group_size 2 \\\n",
    "    --query_max_len 256 \\\n",
    "    --passage_max_len 512 \\\n",
    "    --pad_to_multiple_of 8 \\\n",
    "    --knowledge_distillation True \\\n",
    "    --same_dataset_within_batch True \\\n",
    "    --small_threshold 0 \\\n",
    "    --drop_threshold 0 \\\n",
    "    --output_dir ./test_encoder_only_m3_bge-m3_sd \\\n",
    "    --overwrite_output_dir \\\n",
    "    --learning_rate 1e-5 \\\n",
    "    --fp16 False\\\n",
    "    --num_train_epochs 1 \\\n",
    "    --per_device_train_batch_size 2 \\\n",
    "    --dataloader_drop_last True \\\n",
    "    --warmup_ratio 0.1 \\\n",
    "    --gradient_checkpointing \\\n",
    "    --deepspeed /kaggle/working/ds_stage0.json \\\n",
    "    --logging_steps 1 \\\n",
    "    --save_steps 5000 \\\n",
    "    --temperature 0.02 \\\n",
    "    --sentence_pooling_method cls \\\n",
    "    --normalize_embeddings True \\\n",
    "    --kd_loss_type m3_kd_loss \\\n",
    "    --unified_finetuning True \\\n",
    "    --use_self_distill True \\\n",
    "    --fix_encoder False \\\n",
    "    --self_distill_start_step 0"
   ]
  },
  {
   "cell_type": "code",
   "execution_count": null,
   "metadata": {
    "execution": {
     "iopub.status.busy": "2025-08-06T08:53:35.331968Z",
     "iopub.status.idle": "2025-08-06T08:53:35.332316Z",
     "shell.execute_reply": "2025-08-06T08:53:35.332136Z",
     "shell.execute_reply.started": "2025-08-06T08:53:35.332121Z"
    },
    "trusted": true
   },
   "outputs": [],
   "source": [
    "# %%bash\n",
    "# torchrun --nproc_per_node 2 \\\n",
    "# \t-m FlagEmbedding.finetune.embedder.encoder_only.base \\\n",
    "# \t--model_name_or_path \"BAAI/bge-m3\" \\\n",
    "#     --cache_dir ./cache/model \\\n",
    "#     --train_data /kaggle/working/train_data.json \\\n",
    "#     --cache_path ./cache/data \\\n",
    "#     --train_group_size 4 \\\n",
    "#     --query_max_len 256 \\\n",
    "#     --passage_max_len 8192 \\\n",
    "#     --pad_to_multiple_of 8 \\\n",
    "#     --query_instruction_for_retrieval 'Represent this sentence for searching relevant passages: ' \\\n",
    "#     --query_instruction_format '{}{}' \\\n",
    "#     --knowledge_distillation True \\\n",
    "# \t--output_dir ./test_encoder_only_base_bge-m3 \\\n",
    "#     --overwrite_output_dir \\\n",
    "#     --learning_rate 1e-5 \\\n",
    "#     --fp16 \\\n",
    "#     --num_train_epochs 1 \\\n",
    "#     --per_device_train_batch_size 1 \\\n",
    "#     --dataloader_drop_last True \\\n",
    "#     --warmup_ratio 0.1 \\\n",
    "#     --gradient_checkpointing \\\n",
    "#     --deepspeed /kaggle/working/ds_stage0.json \\\n",
    "#     --logging_steps 1 \\\n",
    "#     --save_steps 2000 \\\n",
    "#     --temperature 0.02 \\\n",
    "#     --sentence_pooling_method cls \\\n",
    "#     --normalize_embeddings True \\\n",
    "#     --kd_loss_type kl_div \\"
   ]
  },
  {
   "cell_type": "code",
   "execution_count": null,
   "metadata": {
    "execution": {
     "iopub.status.busy": "2025-08-06T08:53:35.333582Z",
     "iopub.status.idle": "2025-08-06T08:53:35.333877Z",
     "shell.execute_reply": "2025-08-06T08:53:35.333729Z",
     "shell.execute_reply.started": "2025-08-06T08:53:35.333718Z"
    },
    "trusted": true
   },
   "outputs": [],
   "source": [
    "%%bash\n",
    "du -h --max-depth=1 /kaggle/working/test_encoder_only_m3_bge-m3_sd\n"
   ]
  },
  {
   "cell_type": "code",
   "execution_count": null,
   "metadata": {
    "execution": {
     "iopub.status.busy": "2025-08-06T08:53:35.335340Z",
     "iopub.status.idle": "2025-08-06T08:53:35.335597Z",
     "shell.execute_reply": "2025-08-06T08:53:35.335502Z",
     "shell.execute_reply.started": "2025-08-06T08:53:35.335492Z"
    },
    "trusted": true
   },
   "outputs": [],
   "source": [
    "from FlagEmbedding import FlagModel"
   ]
  },
  {
   "cell_type": "code",
   "execution_count": null,
   "metadata": {
    "execution": {
     "iopub.status.busy": "2025-08-06T08:53:35.336370Z",
     "iopub.status.idle": "2025-08-06T08:53:35.336679Z",
     "shell.execute_reply": "2025-08-06T08:53:35.336532Z",
     "shell.execute_reply.started": "2025-08-06T08:53:35.336518Z"
    },
    "trusted": true
   },
   "outputs": [],
   "source": [
    "finetuned_path_bge_m3 = \"/kaggle/working/test_encoder_only_m3_bge-m3_sd/checkpoint-1095\"\n",
    "\n",
    "ft_model_bge_m3 = FlagModel(\n",
    "    finetuned_path_bge_m3, \n",
    "    query_instruction_for_retrieval=\"Represent this sentence for searching relevant passages:\",\n",
    "    devices=[0],\n",
    "    use_fp16=False\n",
    ")"
   ]
  },
  {
   "cell_type": "code",
   "execution_count": null,
   "metadata": {
    "trusted": true
   },
   "outputs": [],
   "source": [
    "finetuned_path_vnese_encoder = \"/kaggle/input/vietnamese-bi-encoder-finetuned-v1/Checkpoint800\"\n",
    "\n",
    "ft_model_vnese_encoder = SentenceTransformer(\n",
    "    model_name_or_path = finetuned_path_vnese_encoder,\n",
    "    device = \"cuda\"\n",
    ")"
   ]
  },
  {
   "cell_type": "code",
   "execution_count": null,
   "metadata": {
    "execution": {
     "iopub.status.busy": "2025-08-06T08:53:35.337799Z",
     "iopub.status.idle": "2025-08-06T08:53:35.338013Z",
     "shell.execute_reply": "2025-08-06T08:53:35.337924Z",
     "shell.execute_reply.started": "2025-08-06T08:53:35.337915Z"
    },
    "trusted": true
   },
   "outputs": [],
   "source": [
    "i = 29\n",
    "\n",
    "print(full_train_data[i]['pos_scores'])\n",
    "print(full_train_data[i]['neg_scores'])\n",
    "\n",
    "query_embedding = ft_model.encode(full_train_data[i]['query'])\n",
    "positive_embedding = ft_model.encode(full_train_data[i]['pos'])\n",
    "negative_embedding = ft_model.encode(full_train_data[i]['neg'])\n",
    "\n",
    "similarity_1 = query_embedding @ positive_embedding.T\n",
    "print(similarity_1)\n",
    "\n",
    "similarity_2 = query_embedding @ negative_embedding.T\n",
    "print(similarity_2)"
   ]
  },
  {
   "cell_type": "code",
   "execution_count": null,
   "metadata": {
    "execution": {
     "iopub.status.busy": "2025-08-06T08:53:35.338980Z",
     "iopub.status.idle": "2025-08-06T08:53:35.339323Z",
     "shell.execute_reply": "2025-08-06T08:53:35.339151Z",
     "shell.execute_reply.started": "2025-08-06T08:53:35.339137Z"
    },
    "trusted": true
   },
   "outputs": [],
   "source": [
    "import json\n",
    "with open(\"/kaggle/input/legal-corpus/legal_corpus.json\", \"r\", encoding=\"utf-8\") as f:\n",
    "    data = json.load(f)\n",
    "\n",
    "corpus = []\n",
    "article_to_aid = {}\n",
    "for law in data:\n",
    "    for child_law in law['content']:\n",
    "        article_to_aid[child_law['content_Article']] = child_law['aid']\n",
    "        corpus.append(child_law['content_Article'])\n"
   ]
  },
  {
   "cell_type": "markdown",
   "metadata": {},
   "source": [
    "Create index for fast searching\n"
   ]
  },
  {
   "cell_type": "code",
   "execution_count": null,
   "metadata": {
    "execution": {
     "iopub.status.busy": "2025-08-06T08:53:35.340829Z",
     "iopub.status.idle": "2025-08-06T08:53:35.341148Z",
     "shell.execute_reply": "2025-08-06T08:53:35.341006Z",
     "shell.execute_reply.started": "2025-08-06T08:53:35.340987Z"
    },
    "trusted": true
   },
   "outputs": [],
   "source": [
    "submit_list = []\n",
    "with open(\"/kaggle/input/public-test/public_test.json\",\"r\",encoding = \"utf-8\") as f:\n",
    "    file = json.load(f)\n",
    "questions = []\n",
    "idx_to_qid = {}\n",
    "for idx,q in enumerate(file):\n",
    "    questions.append(q['question'])\n",
    "    idx_to_qid[idx] = q['id']"
   ]
  },
  {
   "cell_type": "code",
   "execution_count": null,
   "metadata": {
    "execution": {
     "iopub.status.busy": "2025-08-06T08:53:35.342042Z",
     "iopub.status.idle": "2025-08-06T08:53:35.342381Z",
     "shell.execute_reply": "2025-08-06T08:53:35.342202Z",
     "shell.execute_reply.started": "2025-08-06T08:53:35.342188Z"
    },
    "trusted": true
   },
   "outputs": [],
   "source": [
    "corpus_embeddings = ft_model.encode(corpus)"
   ]
  },
  {
   "cell_type": "code",
   "execution_count": null,
   "metadata": {
    "execution": {
     "iopub.status.busy": "2025-08-06T08:53:35.343474Z",
     "iopub.status.idle": "2025-08-06T08:53:35.343751Z",
     "shell.execute_reply": "2025-08-06T08:53:35.343610Z",
     "shell.execute_reply.started": "2025-08-06T08:53:35.343595Z"
    },
    "trusted": true
   },
   "outputs": [],
   "source": [
    "import numpy as np\n",
    "\n",
    "corpus_embeddings = corpus_embeddings.astype(np.float32)"
   ]
  },
  {
   "cell_type": "code",
   "execution_count": null,
   "metadata": {
    "execution": {
     "iopub.status.busy": "2025-08-06T08:53:35.345145Z",
     "iopub.status.idle": "2025-08-06T08:53:35.345403Z",
     "shell.execute_reply": "2025-08-06T08:53:35.345304Z",
     "shell.execute_reply.started": "2025-08-06T08:53:35.345294Z"
    },
    "trusted": true
   },
   "outputs": [],
   "source": [
    "import faiss\n",
    "\n",
    "# get the length of our embedding vectors\n",
    "dim = corpus_embeddings.shape[-1]\n",
    "\n",
    "# create the faiss index and store the corpus embeddings into the vector space\n",
    "index = faiss.index_factory(dim, 'Flat', faiss.METRIC_INNER_PRODUCT)"
   ]
  },
  {
   "cell_type": "code",
   "execution_count": null,
   "metadata": {
    "execution": {
     "iopub.status.busy": "2025-08-06T08:53:35.346568Z",
     "iopub.status.idle": "2025-08-06T08:53:35.346846Z",
     "shell.execute_reply": "2025-08-06T08:53:35.346720Z",
     "shell.execute_reply.started": "2025-08-06T08:53:35.346707Z"
    },
    "trusted": true
   },
   "outputs": [],
   "source": [
    "index.train(corpus_embeddings)"
   ]
  },
  {
   "cell_type": "code",
   "execution_count": null,
   "metadata": {
    "execution": {
     "iopub.status.busy": "2025-08-06T08:53:35.348891Z",
     "iopub.status.idle": "2025-08-06T08:53:35.349569Z",
     "shell.execute_reply": "2025-08-06T08:53:35.349413Z",
     "shell.execute_reply.started": "2025-08-06T08:53:35.349400Z"
    },
    "trusted": true
   },
   "outputs": [],
   "source": [
    "# check if the index is trained\n",
    "print(index.is_trained)  "
   ]
  },
  {
   "cell_type": "code",
   "execution_count": null,
   "metadata": {
    "execution": {
     "iopub.status.busy": "2025-08-06T08:53:35.350396Z",
     "iopub.status.idle": "2025-08-06T08:53:35.350665Z",
     "shell.execute_reply": "2025-08-06T08:53:35.350508Z",
     "shell.execute_reply.started": "2025-08-06T08:53:35.350498Z"
    },
    "trusted": true
   },
   "outputs": [],
   "source": [
    "index.add(corpus_embeddings)\n",
    "\n",
    "print(f\"total number of vectors: {index.ntotal}\")"
   ]
  },
  {
   "cell_type": "code",
   "execution_count": null,
   "metadata": {
    "execution": {
     "iopub.status.busy": "2025-08-06T08:53:35.351549Z",
     "iopub.status.idle": "2025-08-06T08:53:35.351898Z",
     "shell.execute_reply": "2025-08-06T08:53:35.351768Z",
     "shell.execute_reply.started": "2025-08-06T08:53:35.351750Z"
    },
    "trusted": true
   },
   "outputs": [],
   "source": [
    "len(questions)"
   ]
  },
  {
   "cell_type": "code",
   "execution_count": null,
   "metadata": {
    "execution": {
     "iopub.status.busy": "2025-08-06T08:53:35.352978Z",
     "iopub.status.idle": "2025-08-06T08:53:35.353288Z",
     "shell.execute_reply": "2025-08-06T08:53:35.353124Z",
     "shell.execute_reply.started": "2025-08-06T08:53:35.353109Z"
    },
    "trusted": true
   },
   "outputs": [],
   "source": [
    "query_embeddings = ft_model.encode_queries(questions)"
   ]
  },
  {
   "cell_type": "code",
   "execution_count": null,
   "metadata": {
    "execution": {
     "iopub.status.busy": "2025-08-06T08:53:35.354382Z",
     "iopub.status.idle": "2025-08-06T08:53:35.354610Z",
     "shell.execute_reply": "2025-08-06T08:53:35.354521Z",
     "shell.execute_reply.started": "2025-08-06T08:53:35.354512Z"
    },
    "trusted": true
   },
   "outputs": [],
   "source": [
    "for i in range(1,5):\n",
    "    dists, ids = index.search(query_embeddings, k=i)\n",
    "    submit = []\n",
    "    for idx, each_ids in enumerate(ids):\n",
    "        each_ids = [int(each_id) for each_id in each_ids]\n",
    "        submit.append({\"qid\": idx_to_qid[idx], \"relevant_laws\": list(each_ids)})\n",
    "        \n",
    "    with open(f\"answer_top{i}.json\", \"w\", encoding=\"utf-8\") as f:\n",
    "        json.dump(submit, f, ensure_ascii=False)"
   ]
  }
 ],
 "metadata": {
  "kaggle": {
   "accelerator": "gpu",
   "dataSources": [
    {
     "datasetId": 7893366,
     "sourceId": 12506309,
     "sourceType": "datasetVersion"
    },
    {
     "datasetId": 7931256,
     "sourceId": 12560475,
     "sourceType": "datasetVersion"
    },
    {
     "datasetId": 7931264,
     "sourceId": 12560483,
     "sourceType": "datasetVersion"
    },
    {
     "datasetId": 8019153,
     "sourceId": 12689559,
     "sourceType": "datasetVersion"
    }
   ],
   "dockerImageVersionId": 31089,
   "isGpuEnabled": true,
   "isInternetEnabled": true,
   "language": "python",
   "sourceType": "notebook"
  },
  "kernelspec": {
   "display_name": "Python 3",
   "language": "python",
   "name": "python3"
  },
  "language_info": {
   "codemirror_mode": {
    "name": "ipython",
    "version": 3
   },
   "file_extension": ".py",
   "mimetype": "text/x-python",
   "name": "python",
   "nbconvert_exporter": "python",
   "pygments_lexer": "ipython3",
   "version": "3.11.13"
  }
 },
 "nbformat": 4,
 "nbformat_minor": 4
}

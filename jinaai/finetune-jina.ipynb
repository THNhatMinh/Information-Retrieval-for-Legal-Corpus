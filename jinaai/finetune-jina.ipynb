{
 "cells": [
  {
   "cell_type": "code",
   "execution_count": 33,
   "metadata": {
    "_cell_guid": "b1076dfc-b9ad-4769-8c92-a6c4dae69d19",
    "_uuid": "8f2839f25d086af736a60e9eeb907d3b93b6e0e5",
    "execution": {
     "iopub.execute_input": "2025-08-05T13:52:29.410647Z",
     "iopub.status.busy": "2025-08-05T13:52:29.410366Z",
     "iopub.status.idle": "2025-08-05T13:52:29.420229Z",
     "shell.execute_reply": "2025-08-05T13:52:29.419490Z",
     "shell.execute_reply.started": "2025-08-05T13:52:29.410626Z"
    },
    "trusted": true
   },
   "outputs": [
    {
     "name": "stdout",
     "output_type": "stream",
     "text": [
      "/kaggle/input/output-with-teacherscore-minedhn/output_with_teacherscore_minedHN.jsonl\n"
     ]
    }
   ],
   "source": [
    "# This Python 3 environment comes with many helpful analytics libraries installed\n",
    "# It is defined by the kaggle/python Docker image: https://github.com/kaggle/docker-python\n",
    "# For example, here's several helpful packages to load\n",
    "\n",
    "import numpy as np # linear algebra\n",
    "import pandas as pd # data processing, CSV file I/O (e.g. pd.read_csv)\n",
    "\n",
    "# Input data files are available in the read-only \"../input/\" directory\n",
    "# For example, running this (by clicking run or pressing Shift+Enter) will list all files under the input directory\n",
    "\n",
    "import os\n",
    "for dirname, _, filenames in os.walk('/kaggle/input'):\n",
    "    for filename in filenames:\n",
    "        print(os.path.join(dirname, filename))\n",
    "\n",
    "# You can write up to 20GB to the current directory (/kaggle/working/) that gets preserved as output when you create a version using \"Save & Run All\" \n",
    "# You can also write temporary files to /kaggle/temp/, but they won't be saved outside of the current session"
   ]
  },
  {
   "cell_type": "code",
   "execution_count": 34,
   "metadata": {
    "execution": {
     "iopub.execute_input": "2025-08-05T13:52:29.422328Z",
     "iopub.status.busy": "2025-08-05T13:52:29.421493Z",
     "iopub.status.idle": "2025-08-05T13:52:29.428846Z",
     "shell.execute_reply": "2025-08-05T13:52:29.428120Z",
     "shell.execute_reply.started": "2025-08-05T13:52:29.422303Z"
    },
    "trusted": true
   },
   "outputs": [],
   "source": [
    "from sentence_transformers import SentenceTransformer, InputExample, losses\n",
    "from torch.utils.data import DataLoader\n",
    "from sentence_transformers.evaluation import InformationRetrievalEvaluator\n",
    "import torch"
   ]
  },
  {
   "cell_type": "code",
   "execution_count": 35,
   "metadata": {
    "execution": {
     "iopub.execute_input": "2025-08-05T13:52:29.429699Z",
     "iopub.status.busy": "2025-08-05T13:52:29.429456Z",
     "iopub.status.idle": "2025-08-05T13:52:32.772257Z",
     "shell.execute_reply": "2025-08-05T13:52:32.771482Z",
     "shell.execute_reply.started": "2025-08-05T13:52:29.429683Z"
    },
    "trusted": true
   },
   "outputs": [],
   "source": [
    "model = SentenceTransformer(\"jinaai/jina-embeddings-v3\", trust_remote_code=True)\n",
    "# model.to(\"cuda\")\n",
    "\n",
    "# Dual encoder access\n",
    "query_encoder = model[0]\n",
    "passage_encoder = model[1]\n",
    "\n",
    "# Set task heads explicitly\n",
    "query_encoder.default_task = \"retrieval.query\"\n",
    "passage_encoder.default_task = \"retrieval.passage\"\n",
    "\n"
   ]
  },
  {
   "cell_type": "code",
   "execution_count": 36,
   "metadata": {
    "execution": {
     "iopub.execute_input": "2025-08-05T13:52:32.774370Z",
     "iopub.status.busy": "2025-08-05T13:52:32.774142Z",
     "iopub.status.idle": "2025-08-05T13:52:33.114253Z",
     "shell.execute_reply": "2025-08-05T13:52:33.113515Z",
     "shell.execute_reply.started": "2025-08-05T13:52:32.774354Z"
    },
    "trusted": true
   },
   "outputs": [],
   "source": [
    "import json\n",
    "full_train_data = []\n",
    "prompt = \"Represent this sentence for searching relevant passages: \"\n",
    "\n",
    "with open(\"/kaggle/input/output-with-teacherscore-minedhn/output_with_teacherscore_minedHN.jsonl\", \"r\", encoding = \"utf-8\") as f:\n",
    "    for line in f:\n",
    "        line = line.strip()\n",
    "        if line:\n",
    "            temp_dict = json.loads(line)\n",
    "            temp_dict['prompt'] = prompt\n",
    "            full_train_data.append(temp_dict)"
   ]
  },
  {
   "cell_type": "code",
   "execution_count": 37,
   "metadata": {
    "execution": {
     "iopub.execute_input": "2025-08-05T13:52:33.115312Z",
     "iopub.status.busy": "2025-08-05T13:52:33.115065Z",
     "iopub.status.idle": "2025-08-05T13:52:33.125239Z",
     "shell.execute_reply": "2025-08-05T13:52:33.124696Z",
     "shell.execute_reply.started": "2025-08-05T13:52:33.115287Z"
    },
    "trusted": true
   },
   "outputs": [],
   "source": [
    "from sklearn.model_selection import train_test_split\n",
    "\n",
    "# Full dataset\n",
    "all_data = full_train_data  # list of your dicts\n",
    "\n",
    "# Split into train and temp (eval+test)\n",
    "train_data, temp_data = train_test_split(all_data, test_size=0.2, random_state=42)\n",
    "eval_data, test_data = train_test_split(temp_data, test_size=0.5, random_state=42)\n",
    "\n",
    "# train_data[0]"
   ]
  },
  {
   "cell_type": "code",
   "execution_count": 38,
   "metadata": {
    "execution": {
     "iopub.execute_input": "2025-08-05T13:52:33.126153Z",
     "iopub.status.busy": "2025-08-05T13:52:33.125972Z",
     "iopub.status.idle": "2025-08-05T13:52:33.140146Z",
     "shell.execute_reply": "2025-08-05T13:52:33.139644Z",
     "shell.execute_reply.started": "2025-08-05T13:52:33.126133Z"
    },
    "trusted": true
   },
   "outputs": [],
   "source": [
    "import torch.nn as nn\n",
    "\n",
    "class CustomDualEncoder(nn.Module):\n",
    "    def __init__(self, query_encoder, passage_encoder):\n",
    "        super().__init__()\n",
    "        self.query_encoder = query_encoder\n",
    "        self.passage_encoder = passage_encoder\n",
    "\n",
    "    def forward(self, features):\n",
    "        # features is a single dictionary containing \"texts\" with 2 texts per sample\n",
    "        # SentenceTransformer will automatically tokenize and split per encoder\n",
    "        query_features = {k: v for k, v in features.items() if k.endswith(\"0\")}\n",
    "        passage_features = {k: v for k, v in features.items() if k.endswith(\"1\")}\n",
    "\n",
    "        # Clean keys: remove the 0/1 suffix to make them usable\n",
    "        query_features = {k[:-1]: v for k, v in query_features.items()}\n",
    "        passage_features = {k[:-1]: v for k, v in passage_features.items()}\n",
    "\n",
    "        query_embedding = self.query_encoder(query_features)[\"sentence_embedding\"]\n",
    "        passage_embedding = self.passage_encoder(passage_features)[\"sentence_embedding\"]\n",
    "\n",
    "        return [query_embedding, passage_embedding]\n",
    "\n",
    "\n",
    "dual_model = CustomDualEncoder(query_encoder, passage_encoder)\n"
   ]
  },
  {
   "cell_type": "code",
   "execution_count": 39,
   "metadata": {
    "execution": {
     "iopub.execute_input": "2025-08-05T13:52:33.140889Z",
     "iopub.status.busy": "2025-08-05T13:52:33.140725Z",
     "iopub.status.idle": "2025-08-05T13:52:33.159781Z",
     "shell.execute_reply": "2025-08-05T13:52:33.159184Z",
     "shell.execute_reply.started": "2025-08-05T13:52:33.140878Z"
    },
    "trusted": true
   },
   "outputs": [
    {
     "name": "stdout",
     "output_type": "stream",
     "text": [
      "<InputExample> label: 0, texts: Represent this sentence for searching relevant passages: Cơ quan nào có thẩm quyền cấp lại giấy chứng nhận đăng ký doanh nghiệp?; 1. Cơ quan đăng ký kinh doanh được tổ chức ở tỉnh, thành phố trực thuộc Trung ương (sau đây gọi chung là cấp tỉnh) và ở quận, huyện, thị xã, thành phố thuộc tỉnh (sau đây gọi chung là cấp huyện), bao gồm:a) Ở cấp tỉnh: Phòng Đăng ký kinh doanh thuộc Sở Kế hoạch và Đầu tư (sau đây gọi chung là Phòng Đăng ký kinh doanh).Phòng Đăng ký kinh doanh có thể tổ chức các điểm để tiếp nhận hồ sơ và trả kết quả thuộc Phòng Đăng ký kinh doanh tại các địa điểm khác nhau trên địa bàn cấp tỉnh;b) Ở cấp huyện: Phòng Tài chính - Kế hoạch thuộc Ủy ban nhân dân cấp huyện (sau đây gọi chung là Cơ quan đăng ký kinh doanh cấp huyện).\n",
      "\n",
      "2. Cơ quan đăng ký kinh doanh có tài khoản và con dấu riêng.\n"
     ]
    }
   ],
   "source": [
    "# Create training examples (positive query-passage pairs)\n",
    "def prepare_multiple_negatives_data(data_dicts, prompt=\"\"):\n",
    "    examples = []\n",
    "    for d in data_dicts:\n",
    "        query = prompt + d['query']\n",
    "        for pos_passage in d['pos']:\n",
    "            examples.append(InputExample(texts=[query, pos_passage]))\n",
    "    return examples\n",
    "\n",
    "train_examples = prepare_multiple_negatives_data(train_data, prompt=\"Represent this sentence for searching relevant passages: \")\n",
    "\n",
    "print(train_examples[0])\n",
    "# Wrap in a DataLoader\n",
    "\n",
    "train_dataloader = DataLoader(train_examples, shuffle=True, batch_size=16)\n",
    "\n",
    "# Use MultipleNegativesRankingLoss\n",
    "train_loss = losses.MultipleNegativesRankingLoss(model = dual_model)\n",
    "\n"
   ]
  },
  {
   "cell_type": "code",
   "execution_count": 40,
   "metadata": {
    "execution": {
     "iopub.execute_input": "2025-08-05T13:52:33.160880Z",
     "iopub.status.busy": "2025-08-05T13:52:33.160626Z",
     "iopub.status.idle": "2025-08-05T13:52:33.175979Z",
     "shell.execute_reply": "2025-08-05T13:52:33.175306Z",
     "shell.execute_reply.started": "2025-08-05T13:52:33.160860Z"
    },
    "trusted": true
   },
   "outputs": [],
   "source": [
    "def prepare_evaluator_input(data, prompt=\"\"):\n",
    "    queries = {}\n",
    "    corpus = {}\n",
    "    relevant_docs = {}\n",
    "    corpus_id_counter = 0\n",
    "\n",
    "    for idx, entry in enumerate(data):\n",
    "        qid = f\"q{idx}\"\n",
    "        queries[qid] = prompt + entry[\"query\"]\n",
    "        relevant_docs[qid] = []\n",
    "\n",
    "        for pos in entry[\"pos\"]:\n",
    "            pid = f\"p{corpus_id_counter}\"\n",
    "            corpus[pid] = pos\n",
    "            relevant_docs[qid].append(pid)\n",
    "            corpus_id_counter += 1\n",
    "\n",
    "        for neg in entry.get(\"neg\", []):\n",
    "            pid = f\"p{corpus_id_counter}\"\n",
    "            corpus[pid] = neg\n",
    "            corpus_id_counter += 1\n",
    "\n",
    "    return queries, corpus, relevant_docs\n",
    "\n",
    "# prepare evaluator \n",
    "eval_queries, eval_corpus, eval_relevant_docs = prepare_evaluator_input(eval_data, prompt=\"Represent this sentence for searching relevant passages: \")\n",
    "test_queries, test_corpus, test_relevant_docs = prepare_evaluator_input(test_data, prompt=\"Represent this sentence for searching relevant passages: \")\n",
    "\n",
    "evaluator = InformationRetrievalEvaluator(\n",
    "    queries=eval_queries,\n",
    "    corpus=eval_corpus,\n",
    "    relevant_docs=eval_relevant_docs,\n",
    "    name=\"eval\"\n",
    ")"
   ]
  },
  {
   "cell_type": "code",
   "execution_count": 41,
   "metadata": {
    "execution": {
     "iopub.execute_input": "2025-08-05T13:52:33.176876Z",
     "iopub.status.busy": "2025-08-05T13:52:33.176678Z",
     "iopub.status.idle": "2025-08-05T13:52:33.188946Z",
     "shell.execute_reply": "2025-08-05T13:52:33.188250Z",
     "shell.execute_reply.started": "2025-08-05T13:52:33.176862Z"
    },
    "trusted": true
   },
   "outputs": [
    {
     "name": "stderr",
     "output_type": "stream",
     "text": [
      "\u001b[34m\u001b[1mwandb\u001b[0m: \u001b[33mWARNING\u001b[0m Calling wandb.login() after wandb.init() has no effect.\n"
     ]
    },
    {
     "data": {
      "text/plain": [
       "True"
      ]
     },
     "execution_count": 41,
     "metadata": {},
     "output_type": "execute_result"
    }
   ],
   "source": [
    "import torch\n",
    "torch.cuda.empty_cache()\n",
    "import wandb\n",
    "wandb.login(key=\"yourapikey\")"
   ]
  },
  {
   "cell_type": "code",
   "execution_count": null,
   "metadata": {
    "execution": {
     "iopub.execute_input": "2025-08-05T13:54:27.943873Z",
     "iopub.status.busy": "2025-08-05T13:54:27.943314Z",
     "iopub.status.idle": "2025-08-05T13:54:28.179280Z",
     "shell.execute_reply": "2025-08-05T13:54:28.178411Z",
     "shell.execute_reply.started": "2025-08-05T13:54:27.943851Z"
    },
    "trusted": true
   },
   "outputs": [],
   "source": [
    "# Train\n",
    "print(\"Starting training...\")\n",
    "from sentence_transformers import SentenceTransformer\n",
    "\n",
    "new_model = SentenceTransformer(modules=[])\n",
    "\n",
    "new_model.model = dual_model\n",
    "\n",
    "# Now train using model.fit()\n",
    "print(\"Starting training...\")\n",
    "new_model.fit(\n",
    "    train_objectives=[(train_dataloader, train_loss)],\n",
    "    evaluator=evaluator,\n",
    "    evaluation_steps=10,\n",
    "    epochs=3,\n",
    "    warmup_steps=100,\n",
    "    show_progress_bar=True,\n",
    "    use_amp=True\n",
    ")\n",
    "print(\"Training complete.\")\n",
    "\n",
    "# Save the fine-tuned model\n",
    "new_model.save(\"output/jina-v3-asym-finetune-1\")"
   ]
  },
  {
   "cell_type": "code",
   "execution_count": null,
   "metadata": {
    "execution": {
     "iopub.status.busy": "2025-08-05T13:52:33.219888Z",
     "iopub.status.idle": "2025-08-05T13:52:33.220164Z",
     "shell.execute_reply": "2025-08-05T13:52:33.220007Z",
     "shell.execute_reply.started": "2025-08-05T13:52:33.219994Z"
    },
    "trusted": true
   },
   "outputs": [],
   "source": [
    "test_evaluator = InformationRetrievalEvaluator(\n",
    "    queries=test_queries,\n",
    "    corpus=test_corpus,\n",
    "    relevant_docs=test_relevant_docs,\n",
    "    name=\"test\",\n",
    "    score_function=\"cos_sim\"\n",
    ")\n",
    "\n",
    "test_evaluator(model)"
   ]
  }
 ],
 "metadata": {
  "kaggle": {
   "accelerator": "nvidiaTeslaT4",
   "dataSources": [
    {
     "datasetId": 7975527,
     "sourceId": 12623068,
     "sourceType": "datasetVersion"
    }
   ],
   "dockerImageVersionId": 31089,
   "isGpuEnabled": true,
   "isInternetEnabled": true,
   "language": "python",
   "sourceType": "notebook"
  },
  "kernelspec": {
   "display_name": "Python 3",
   "language": "python",
   "name": "python3"
  },
  "language_info": {
   "codemirror_mode": {
    "name": "ipython",
    "version": 3
   },
   "file_extension": ".py",
   "mimetype": "text/x-python",
   "name": "python",
   "nbconvert_exporter": "python",
   "pygments_lexer": "ipython3",
   "version": "3.11.13"
  }
 },
 "nbformat": 4,
 "nbformat_minor": 4
}
